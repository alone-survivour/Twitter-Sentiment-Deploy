{
 "cells": [
  {
   "cell_type": "code",
   "execution_count": 1,
   "metadata": {},
   "outputs": [
    {
     "name": "stdout",
     "output_type": "stream",
     "text": [
      "Collecting tweepy\n",
      "  Downloading tweepy-3.9.0-py2.py3-none-any.whl (30 kB)\n",
      "Collecting requests-oauthlib>=0.7.0\n",
      "  Downloading requests_oauthlib-1.3.0-py2.py3-none-any.whl (23 kB)\n",
      "Requirement already satisfied: six>=1.10.0 in c:\\users\\shanmukeswar\\anaconda3\\lib\\site-packages (from tweepy) (1.14.0)\n",
      "Requirement already satisfied: requests[socks]>=2.11.1 in c:\\users\\shanmukeswar\\anaconda3\\lib\\site-packages (from tweepy) (2.22.0)\n",
      "Collecting oauthlib>=3.0.0\n",
      "  Downloading oauthlib-3.1.0-py2.py3-none-any.whl (147 kB)\n",
      "Requirement already satisfied: chardet<3.1.0,>=3.0.2 in c:\\users\\shanmukeswar\\anaconda3\\lib\\site-packages (from requests[socks]>=2.11.1->tweepy) (3.0.4)\n",
      "Requirement already satisfied: certifi>=2017.4.17 in c:\\users\\shanmukeswar\\anaconda3\\lib\\site-packages (from requests[socks]>=2.11.1->tweepy) (2019.11.28)\n",
      "Requirement already satisfied: urllib3!=1.25.0,!=1.25.1,<1.26,>=1.21.1 in c:\\users\\shanmukeswar\\anaconda3\\lib\\site-packages (from requests[socks]>=2.11.1->tweepy) (1.25.8)\n",
      "Requirement already satisfied: idna<2.9,>=2.5 in c:\\users\\shanmukeswar\\anaconda3\\lib\\site-packages (from requests[socks]>=2.11.1->tweepy) (2.8)\n",
      "Requirement already satisfied: PySocks!=1.5.7,>=1.5.6; extra == \"socks\" in c:\\users\\shanmukeswar\\anaconda3\\lib\\site-packages (from requests[socks]>=2.11.1->tweepy) (1.7.1)\n",
      "Installing collected packages: oauthlib, requests-oauthlib, tweepy\n",
      "Successfully installed oauthlib-3.1.0 requests-oauthlib-1.3.0 tweepy-3.9.0\n"
     ]
    }
   ],
   "source": [
    "!pip install tweepy"
   ]
  },
  {
   "cell_type": "code",
   "execution_count": 2,
   "metadata": {},
   "outputs": [
    {
     "name": "stdout",
     "output_type": "stream",
     "text": [
      "Requirement already satisfied: openpyxl in c:\\users\\shanmukeswar\\anaconda3\\lib\\site-packages (3.0.3)\n",
      "Requirement already satisfied: et-xmlfile in c:\\users\\shanmukeswar\\anaconda3\\lib\\site-packages (from openpyxl) (1.0.1)\n",
      "Requirement already satisfied: jdcal in c:\\users\\shanmukeswar\\anaconda3\\lib\\site-packages (from openpyxl) (1.4.1)\n"
     ]
    }
   ],
   "source": [
    "!pip install openpyxl"
   ]
  },
  {
   "cell_type": "code",
   "execution_count": 1,
   "metadata": {},
   "outputs": [],
   "source": [
    "#data manipulation libraries\n",
    "import numpy as np\n",
    "import pandas as pd\n",
    "import json\n",
    "import tweepy\n",
    "from tweepy import OAuthHandler"
   ]
  },
  {
   "cell_type": "code",
   "execution_count": 2,
   "metadata": {},
   "outputs": [],
   "source": [
    "consumer_key = \"bYGkegpyYHkt3i3bEP5kATj0P\"\n",
    "consumer_secret = \"jZKYSXh3uAuVx16VohKtyd2IbwrJBAzTIiXIpPC4nBDAcgE2qY\"\n",
    "access_token = \"2467440198-RfjVxK0054l6qZCAj7tEIkewFGgPbAsVOqWwb5Q\"\n",
    "access_token_secret = \"K7PdN05ulegk5fEjLADpm8YIFhnoQWL5tTOJwcId6MJmA\""
   ]
  },
  {
   "cell_type": "code",
   "execution_count": 3,
   "metadata": {},
   "outputs": [],
   "source": [
    "auth = tweepy.OAuthHandler(consumer_key, consumer_secret)\n",
    "auth.set_access_token(access_token, access_token_secret)\n",
    "api = tweepy.API(auth)"
   ]
  },
  {
   "cell_type": "code",
   "execution_count": 4,
   "metadata": {},
   "outputs": [],
   "source": [
    "query = \"bjp win in Bihar election 2020\""
   ]
  },
  {
   "cell_type": "code",
   "execution_count": 5,
   "metadata": {},
   "outputs": [
    {
     "name": "stdout",
     "output_type": "stream",
     "text": [
      "Status(_api=<tweepy.api.API object at 0x000001DFFD433C08>, _json={'created_at': 'Wed Oct 28 08:19:45 +0000 2020', 'id': 1321366029625298944, 'id_str': '1321366029625298944', 'full_text': '#BiharElections2020 | Former CM Jitan Ram Manjhi casts his vote at a polling booth in Gaya \\n\\n\"Out of 71 seats in phase-1, NDA will comfortably win around 50 seats,\" he said\\n\\n📸: ANI\\n\\nFollow LIVE updates: https://t.co/0Oi0hYHwPV\\n\\n#ElectionsWithJagran https://t.co/hhGHjA2s2f', 'truncated': False, 'display_text_range': [0, 248], 'entities': {'hashtags': [{'text': 'BiharElections2020', 'indices': [0, 19]}, {'text': 'ElectionsWithJagran', 'indices': [228, 248]}], 'symbols': [], 'user_mentions': [], 'urls': [{'url': 'https://t.co/0Oi0hYHwPV', 'expanded_url': 'https://bit.ly/2HAjU49', 'display_url': 'bit.ly/2HAjU49', 'indices': [203, 226]}], 'media': [{'id': 1321365829695528962, 'id_str': '1321365829695528962', 'indices': [249, 272], 'media_url': 'http://pbs.twimg.com/media/ElZvOKFXYAIjPt-.jpg', 'media_url_https': 'https://pbs.twimg.com/media/ElZvOKFXYAIjPt-.jpg', 'url': 'https://t.co/hhGHjA2s2f', 'display_url': 'pic.twitter.com/hhGHjA2s2f', 'expanded_url': 'https://twitter.com/JagranEnglish/status/1321366029625298944/photo/1', 'type': 'photo', 'sizes': {'thumb': {'w': 150, 'h': 150, 'resize': 'crop'}, 'small': {'w': 680, 'h': 383, 'resize': 'fit'}, 'large': {'w': 1024, 'h': 576, 'resize': 'fit'}, 'medium': {'w': 1024, 'h': 576, 'resize': 'fit'}}}]}, 'extended_entities': {'media': [{'id': 1321365829695528962, 'id_str': '1321365829695528962', 'indices': [249, 272], 'media_url': 'http://pbs.twimg.com/media/ElZvOKFXYAIjPt-.jpg', 'media_url_https': 'https://pbs.twimg.com/media/ElZvOKFXYAIjPt-.jpg', 'url': 'https://t.co/hhGHjA2s2f', 'display_url': 'pic.twitter.com/hhGHjA2s2f', 'expanded_url': 'https://twitter.com/JagranEnglish/status/1321366029625298944/photo/1', 'type': 'photo', 'sizes': {'thumb': {'w': 150, 'h': 150, 'resize': 'crop'}, 'small': {'w': 680, 'h': 383, 'resize': 'fit'}, 'large': {'w': 1024, 'h': 576, 'resize': 'fit'}, 'medium': {'w': 1024, 'h': 576, 'resize': 'fit'}}}, {'id': 1321365834678362112, 'id_str': '1321365834678362112', 'indices': [249, 272], 'media_url': 'http://pbs.twimg.com/media/ElZvOcpXYAAxr4K.jpg', 'media_url_https': 'https://pbs.twimg.com/media/ElZvOcpXYAAxr4K.jpg', 'url': 'https://t.co/hhGHjA2s2f', 'display_url': 'pic.twitter.com/hhGHjA2s2f', 'expanded_url': 'https://twitter.com/JagranEnglish/status/1321366029625298944/photo/1', 'type': 'photo', 'sizes': {'thumb': {'w': 150, 'h': 150, 'resize': 'crop'}, 'small': {'w': 680, 'h': 383, 'resize': 'fit'}, 'large': {'w': 1024, 'h': 576, 'resize': 'fit'}, 'medium': {'w': 1024, 'h': 576, 'resize': 'fit'}}}, {'id': 1321365839522705408, 'id_str': '1321365839522705408', 'indices': [249, 272], 'media_url': 'http://pbs.twimg.com/media/ElZvOusWMAA80dI.jpg', 'media_url_https': 'https://pbs.twimg.com/media/ElZvOusWMAA80dI.jpg', 'url': 'https://t.co/hhGHjA2s2f', 'display_url': 'pic.twitter.com/hhGHjA2s2f', 'expanded_url': 'https://twitter.com/JagranEnglish/status/1321366029625298944/photo/1', 'type': 'photo', 'sizes': {'thumb': {'w': 150, 'h': 150, 'resize': 'crop'}, 'large': {'w': 1024, 'h': 576, 'resize': 'fit'}, 'small': {'w': 680, 'h': 383, 'resize': 'fit'}, 'medium': {'w': 1024, 'h': 576, 'resize': 'fit'}}}]}, 'metadata': {'iso_language_code': 'en', 'result_type': 'recent'}, 'source': '<a href=\"https://mobile.twitter.com\" rel=\"nofollow\">Twitter Web App</a>', 'in_reply_to_status_id': None, 'in_reply_to_status_id_str': None, 'in_reply_to_user_id': None, 'in_reply_to_user_id_str': None, 'in_reply_to_screen_name': None, 'user': {'id': 231692806, 'id_str': '231692806', 'name': 'Jagran English', 'screen_name': 'JagranEnglish', 'location': 'New Delhi, India', 'description': 'Jagran English the new age Trending News site. Check out https://t.co/UuzBHS8KDs for all latest & top trends across globe.', 'url': 'https://t.co/KNACj4Xbxs', 'entities': {'url': {'urls': [{'url': 'https://t.co/KNACj4Xbxs', 'expanded_url': 'http://english.jagran.com', 'display_url': 'english.jagran.com', 'indices': [0, 23]}]}, 'description': {'urls': [{'url': 'https://t.co/UuzBHS8KDs', 'expanded_url': 'http://english.jagran.com/', 'display_url': 'english.jagran.com', 'indices': [57, 80]}]}}, 'protected': False, 'followers_count': 7295, 'friends_count': 35, 'listed_count': 90, 'created_at': 'Wed Dec 29 06:03:27 +0000 2010', 'favourites_count': 86, 'utc_offset': None, 'time_zone': None, 'geo_enabled': True, 'verified': True, 'statuses_count': 146472, 'lang': None, 'contributors_enabled': False, 'is_translator': False, 'is_translation_enabled': False, 'profile_background_color': 'C0DEED', 'profile_background_image_url': 'http://abs.twimg.com/images/themes/theme1/bg.png', 'profile_background_image_url_https': 'https://abs.twimg.com/images/themes/theme1/bg.png', 'profile_background_tile': False, 'profile_image_url': 'http://pbs.twimg.com/profile_images/791567271328047104/2wcHjE_4_normal.jpg', 'profile_image_url_https': 'https://pbs.twimg.com/profile_images/791567271328047104/2wcHjE_4_normal.jpg', 'profile_banner_url': 'https://pbs.twimg.com/profile_banners/231692806/1602849821', 'profile_link_color': '0084B4', 'profile_sidebar_border_color': 'FFFFFF', 'profile_sidebar_fill_color': 'DDEEF6', 'profile_text_color': '333333', 'profile_use_background_image': True, 'has_extended_profile': True, 'default_profile': False, 'default_profile_image': False, 'following': False, 'follow_request_sent': False, 'notifications': False, 'translator_type': 'none'}, 'geo': None, 'coordinates': None, 'place': None, 'contributors': None, 'is_quote_status': False, 'retweet_count': 0, 'favorite_count': 1, 'favorited': False, 'retweeted': False, 'possibly_sensitive': False, 'lang': 'en'}, created_at=datetime.datetime(2020, 10, 28, 8, 19, 45), id=1321366029625298944, id_str='1321366029625298944', full_text='#BiharElections2020 | Former CM Jitan Ram Manjhi casts his vote at a polling booth in Gaya \\n\\n\"Out of 71 seats in phase-1, NDA will comfortably win around 50 seats,\" he said\\n\\n📸: ANI\\n\\nFollow LIVE updates: https://t.co/0Oi0hYHwPV\\n\\n#ElectionsWithJagran https://t.co/hhGHjA2s2f', truncated=False, display_text_range=[0, 248], entities={'hashtags': [{'text': 'BiharElections2020', 'indices': [0, 19]}, {'text': 'ElectionsWithJagran', 'indices': [228, 248]}], 'symbols': [], 'user_mentions': [], 'urls': [{'url': 'https://t.co/0Oi0hYHwPV', 'expanded_url': 'https://bit.ly/2HAjU49', 'display_url': 'bit.ly/2HAjU49', 'indices': [203, 226]}], 'media': [{'id': 1321365829695528962, 'id_str': '1321365829695528962', 'indices': [249, 272], 'media_url': 'http://pbs.twimg.com/media/ElZvOKFXYAIjPt-.jpg', 'media_url_https': 'https://pbs.twimg.com/media/ElZvOKFXYAIjPt-.jpg', 'url': 'https://t.co/hhGHjA2s2f', 'display_url': 'pic.twitter.com/hhGHjA2s2f', 'expanded_url': 'https://twitter.com/JagranEnglish/status/1321366029625298944/photo/1', 'type': 'photo', 'sizes': {'thumb': {'w': 150, 'h': 150, 'resize': 'crop'}, 'small': {'w': 680, 'h': 383, 'resize': 'fit'}, 'large': {'w': 1024, 'h': 576, 'resize': 'fit'}, 'medium': {'w': 1024, 'h': 576, 'resize': 'fit'}}}]}, extended_entities={'media': [{'id': 1321365829695528962, 'id_str': '1321365829695528962', 'indices': [249, 272], 'media_url': 'http://pbs.twimg.com/media/ElZvOKFXYAIjPt-.jpg', 'media_url_https': 'https://pbs.twimg.com/media/ElZvOKFXYAIjPt-.jpg', 'url': 'https://t.co/hhGHjA2s2f', 'display_url': 'pic.twitter.com/hhGHjA2s2f', 'expanded_url': 'https://twitter.com/JagranEnglish/status/1321366029625298944/photo/1', 'type': 'photo', 'sizes': {'thumb': {'w': 150, 'h': 150, 'resize': 'crop'}, 'small': {'w': 680, 'h': 383, 'resize': 'fit'}, 'large': {'w': 1024, 'h': 576, 'resize': 'fit'}, 'medium': {'w': 1024, 'h': 576, 'resize': 'fit'}}}, {'id': 1321365834678362112, 'id_str': '1321365834678362112', 'indices': [249, 272], 'media_url': 'http://pbs.twimg.com/media/ElZvOcpXYAAxr4K.jpg', 'media_url_https': 'https://pbs.twimg.com/media/ElZvOcpXYAAxr4K.jpg', 'url': 'https://t.co/hhGHjA2s2f', 'display_url': 'pic.twitter.com/hhGHjA2s2f', 'expanded_url': 'https://twitter.com/JagranEnglish/status/1321366029625298944/photo/1', 'type': 'photo', 'sizes': {'thumb': {'w': 150, 'h': 150, 'resize': 'crop'}, 'small': {'w': 680, 'h': 383, 'resize': 'fit'}, 'large': {'w': 1024, 'h': 576, 'resize': 'fit'}, 'medium': {'w': 1024, 'h': 576, 'resize': 'fit'}}}, {'id': 1321365839522705408, 'id_str': '1321365839522705408', 'indices': [249, 272], 'media_url': 'http://pbs.twimg.com/media/ElZvOusWMAA80dI.jpg', 'media_url_https': 'https://pbs.twimg.com/media/ElZvOusWMAA80dI.jpg', 'url': 'https://t.co/hhGHjA2s2f', 'display_url': 'pic.twitter.com/hhGHjA2s2f', 'expanded_url': 'https://twitter.com/JagranEnglish/status/1321366029625298944/photo/1', 'type': 'photo', 'sizes': {'thumb': {'w': 150, 'h': 150, 'resize': 'crop'}, 'large': {'w': 1024, 'h': 576, 'resize': 'fit'}, 'small': {'w': 680, 'h': 383, 'resize': 'fit'}, 'medium': {'w': 1024, 'h': 576, 'resize': 'fit'}}}]}, metadata={'iso_language_code': 'en', 'result_type': 'recent'}, source='Twitter Web App', source_url='https://mobile.twitter.com', in_reply_to_status_id=None, in_reply_to_status_id_str=None, in_reply_to_user_id=None, in_reply_to_user_id_str=None, in_reply_to_screen_name=None, author=User(_api=<tweepy.api.API object at 0x000001DFFD433C08>, _json={'id': 231692806, 'id_str': '231692806', 'name': 'Jagran English', 'screen_name': 'JagranEnglish', 'location': 'New Delhi, India', 'description': 'Jagran English the new age Trending News site. Check out https://t.co/UuzBHS8KDs for all latest & top trends across globe.', 'url': 'https://t.co/KNACj4Xbxs', 'entities': {'url': {'urls': [{'url': 'https://t.co/KNACj4Xbxs', 'expanded_url': 'http://english.jagran.com', 'display_url': 'english.jagran.com', 'indices': [0, 23]}]}, 'description': {'urls': [{'url': 'https://t.co/UuzBHS8KDs', 'expanded_url': 'http://english.jagran.com/', 'display_url': 'english.jagran.com', 'indices': [57, 80]}]}}, 'protected': False, 'followers_count': 7295, 'friends_count': 35, 'listed_count': 90, 'created_at': 'Wed Dec 29 06:03:27 +0000 2010', 'favourites_count': 86, 'utc_offset': None, 'time_zone': None, 'geo_enabled': True, 'verified': True, 'statuses_count': 146472, 'lang': None, 'contributors_enabled': False, 'is_translator': False, 'is_translation_enabled': False, 'profile_background_color': 'C0DEED', 'profile_background_image_url': 'http://abs.twimg.com/images/themes/theme1/bg.png', 'profile_background_image_url_https': 'https://abs.twimg.com/images/themes/theme1/bg.png', 'profile_background_tile': False, 'profile_image_url': 'http://pbs.twimg.com/profile_images/791567271328047104/2wcHjE_4_normal.jpg', 'profile_image_url_https': 'https://pbs.twimg.com/profile_images/791567271328047104/2wcHjE_4_normal.jpg', 'profile_banner_url': 'https://pbs.twimg.com/profile_banners/231692806/1602849821', 'profile_link_color': '0084B4', 'profile_sidebar_border_color': 'FFFFFF', 'profile_sidebar_fill_color': 'DDEEF6', 'profile_text_color': '333333', 'profile_use_background_image': True, 'has_extended_profile': True, 'default_profile': False, 'default_profile_image': False, 'following': False, 'follow_request_sent': False, 'notifications': False, 'translator_type': 'none'}, id=231692806, id_str='231692806', name='Jagran English', screen_name='JagranEnglish', location='New Delhi, India', description='Jagran English the new age Trending News site. Check out https://t.co/UuzBHS8KDs for all latest & top trends across globe.', url='https://t.co/KNACj4Xbxs', entities={'url': {'urls': [{'url': 'https://t.co/KNACj4Xbxs', 'expanded_url': 'http://english.jagran.com', 'display_url': 'english.jagran.com', 'indices': [0, 23]}]}, 'description': {'urls': [{'url': 'https://t.co/UuzBHS8KDs', 'expanded_url': 'http://english.jagran.com/', 'display_url': 'english.jagran.com', 'indices': [57, 80]}]}}, protected=False, followers_count=7295, friends_count=35, listed_count=90, created_at=datetime.datetime(2010, 12, 29, 6, 3, 27), favourites_count=86, utc_offset=None, time_zone=None, geo_enabled=True, verified=True, statuses_count=146472, lang=None, contributors_enabled=False, is_translator=False, is_translation_enabled=False, profile_background_color='C0DEED', profile_background_image_url='http://abs.twimg.com/images/themes/theme1/bg.png', profile_background_image_url_https='https://abs.twimg.com/images/themes/theme1/bg.png', profile_background_tile=False, profile_image_url='http://pbs.twimg.com/profile_images/791567271328047104/2wcHjE_4_normal.jpg', profile_image_url_https='https://pbs.twimg.com/profile_images/791567271328047104/2wcHjE_4_normal.jpg', profile_banner_url='https://pbs.twimg.com/profile_banners/231692806/1602849821', profile_link_color='0084B4', profile_sidebar_border_color='FFFFFF', profile_sidebar_fill_color='DDEEF6', profile_text_color='333333', profile_use_background_image=True, has_extended_profile=True, default_profile=False, default_profile_image=False, following=False, follow_request_sent=False, notifications=False, translator_type='none'), user=User(_api=<tweepy.api.API object at 0x000001DFFD433C08>, _json={'id': 231692806, 'id_str': '231692806', 'name': 'Jagran English', 'screen_name': 'JagranEnglish', 'location': 'New Delhi, India', 'description': 'Jagran English the new age Trending News site. Check out https://t.co/UuzBHS8KDs for all latest & top trends across globe.', 'url': 'https://t.co/KNACj4Xbxs', 'entities': {'url': {'urls': [{'url': 'https://t.co/KNACj4Xbxs', 'expanded_url': 'http://english.jagran.com', 'display_url': 'english.jagran.com', 'indices': [0, 23]}]}, 'description': {'urls': [{'url': 'https://t.co/UuzBHS8KDs', 'expanded_url': 'http://english.jagran.com/', 'display_url': 'english.jagran.com', 'indices': [57, 80]}]}}, 'protected': False, 'followers_count': 7295, 'friends_count': 35, 'listed_count': 90, 'created_at': 'Wed Dec 29 06:03:27 +0000 2010', 'favourites_count': 86, 'utc_offset': None, 'time_zone': None, 'geo_enabled': True, 'verified': True, 'statuses_count': 146472, 'lang': None, 'contributors_enabled': False, 'is_translator': False, 'is_translation_enabled': False, 'profile_background_color': 'C0DEED', 'profile_background_image_url': 'http://abs.twimg.com/images/themes/theme1/bg.png', 'profile_background_image_url_https': 'https://abs.twimg.com/images/themes/theme1/bg.png', 'profile_background_tile': False, 'profile_image_url': 'http://pbs.twimg.com/profile_images/791567271328047104/2wcHjE_4_normal.jpg', 'profile_image_url_https': 'https://pbs.twimg.com/profile_images/791567271328047104/2wcHjE_4_normal.jpg', 'profile_banner_url': 'https://pbs.twimg.com/profile_banners/231692806/1602849821', 'profile_link_color': '0084B4', 'profile_sidebar_border_color': 'FFFFFF', 'profile_sidebar_fill_color': 'DDEEF6', 'profile_text_color': '333333', 'profile_use_background_image': True, 'has_extended_profile': True, 'default_profile': False, 'default_profile_image': False, 'following': False, 'follow_request_sent': False, 'notifications': False, 'translator_type': 'none'}, id=231692806, id_str='231692806', name='Jagran English', screen_name='JagranEnglish', location='New Delhi, India', description='Jagran English the new age Trending News site. Check out https://t.co/UuzBHS8KDs for all latest & top trends across globe.', url='https://t.co/KNACj4Xbxs', entities={'url': {'urls': [{'url': 'https://t.co/KNACj4Xbxs', 'expanded_url': 'http://english.jagran.com', 'display_url': 'english.jagran.com', 'indices': [0, 23]}]}, 'description': {'urls': [{'url': 'https://t.co/UuzBHS8KDs', 'expanded_url': 'http://english.jagran.com/', 'display_url': 'english.jagran.com', 'indices': [57, 80]}]}}, protected=False, followers_count=7295, friends_count=35, listed_count=90, created_at=datetime.datetime(2010, 12, 29, 6, 3, 27), favourites_count=86, utc_offset=None, time_zone=None, geo_enabled=True, verified=True, statuses_count=146472, lang=None, contributors_enabled=False, is_translator=False, is_translation_enabled=False, profile_background_color='C0DEED', profile_background_image_url='http://abs.twimg.com/images/themes/theme1/bg.png', profile_background_image_url_https='https://abs.twimg.com/images/themes/theme1/bg.png', profile_background_tile=False, profile_image_url='http://pbs.twimg.com/profile_images/791567271328047104/2wcHjE_4_normal.jpg', profile_image_url_https='https://pbs.twimg.com/profile_images/791567271328047104/2wcHjE_4_normal.jpg', profile_banner_url='https://pbs.twimg.com/profile_banners/231692806/1602849821', profile_link_color='0084B4', profile_sidebar_border_color='FFFFFF', profile_sidebar_fill_color='DDEEF6', profile_text_color='333333', profile_use_background_image=True, has_extended_profile=True, default_profile=False, default_profile_image=False, following=False, follow_request_sent=False, notifications=False, translator_type='none'), geo=None, coordinates=None, place=None, contributors=None, is_quote_status=False, retweet_count=0, favorite_count=1, favorited=False, retweeted=False, possibly_sensitive=False, lang='en') \n",
      "\n",
      "==========================================\n",
      "\n",
      "Status(_api=<tweepy.api.API object at 0x000001DFFD433C08>, _json={'created_at': 'Wed Oct 28 08:07:05 +0000 2020', 'id': 1321362841908043776, 'id_str': '1321362841908043776', 'full_text': '#BiharElections2020 | Lakhisarai constituency key contest\\n\\n▪️ BJP: Vijay Kumar Sinha\\n▪️ Congress: Amaresh Kumar \\n\\nA look at what happened in 2015 https://t.co/SUFKiqESrp \\n\\nVoting underway; track updates here: https://t.co/WSD9l85h84 \\n\\n#ElectionsWithHT https://t.co/bMvqJKlb9x', 'truncated': False, 'display_text_range': [0, 251], 'entities': {'hashtags': [{'text': 'BiharElections2020', 'indices': [0, 19]}, {'text': 'ElectionsWithHT', 'indices': [235, 251]}], 'symbols': [], 'user_mentions': [], 'urls': [{'url': 'https://t.co/SUFKiqESrp', 'expanded_url': 'https://bit.ly/37LL570', 'display_url': 'bit.ly/37LL570', 'indices': [146, 169]}, {'url': 'https://t.co/WSD9l85h84', 'expanded_url': 'http://bit.ly/3e4oS5i', 'display_url': 'bit.ly/3e4oS5i', 'indices': [209, 232]}], 'media': [{'id': 1321362299773276160, 'id_str': '1321362299773276160', 'indices': [252, 275], 'media_url': 'http://pbs.twimg.com/media/ElZsAsGUUAAo3P6.jpg', 'media_url_https': 'https://pbs.twimg.com/media/ElZsAsGUUAAo3P6.jpg', 'url': 'https://t.co/bMvqJKlb9x', 'display_url': 'pic.twitter.com/bMvqJKlb9x', 'expanded_url': 'https://twitter.com/htTweets/status/1321362841908043776/photo/1', 'type': 'photo', 'sizes': {'thumb': {'w': 150, 'h': 150, 'resize': 'crop'}, 'medium': {'w': 1200, 'h': 675, 'resize': 'fit'}, 'large': {'w': 1200, 'h': 675, 'resize': 'fit'}, 'small': {'w': 680, 'h': 383, 'resize': 'fit'}}}]}, 'extended_entities': {'media': [{'id': 1321362299773276160, 'id_str': '1321362299773276160', 'indices': [252, 275], 'media_url': 'http://pbs.twimg.com/media/ElZsAsGUUAAo3P6.jpg', 'media_url_https': 'https://pbs.twimg.com/media/ElZsAsGUUAAo3P6.jpg', 'url': 'https://t.co/bMvqJKlb9x', 'display_url': 'pic.twitter.com/bMvqJKlb9x', 'expanded_url': 'https://twitter.com/htTweets/status/1321362841908043776/photo/1', 'type': 'photo', 'sizes': {'thumb': {'w': 150, 'h': 150, 'resize': 'crop'}, 'medium': {'w': 1200, 'h': 675, 'resize': 'fit'}, 'large': {'w': 1200, 'h': 675, 'resize': 'fit'}, 'small': {'w': 680, 'h': 383, 'resize': 'fit'}}}]}, 'metadata': {'iso_language_code': 'en', 'result_type': 'recent'}, 'source': '<a href=\"https://mobile.twitter.com\" rel=\"nofollow\">Twitter Web App</a>', 'in_reply_to_status_id': None, 'in_reply_to_status_id_str': None, 'in_reply_to_user_id': None, 'in_reply_to_user_id_str': None, 'in_reply_to_screen_name': None, 'user': {'id': 36327407, 'id_str': '36327407', 'name': 'Hindustan Times', 'screen_name': 'htTweets', 'location': 'India', 'description': \"One of India's largest media companies. Latest news from around the world. Retweets are not endorsements\", 'url': 'https://t.co/yEyv2GeRpS', 'entities': {'url': {'urls': [{'url': 'https://t.co/yEyv2GeRpS', 'expanded_url': 'http://www.hindustantimes.com', 'display_url': 'hindustantimes.com', 'indices': [0, 23]}]}, 'description': {'urls': []}}, 'protected': False, 'followers_count': 7798274, 'friends_count': 125, 'listed_count': 7053, 'created_at': 'Wed Apr 29 10:11:34 +0000 2009', 'favourites_count': 2950, 'utc_offset': None, 'time_zone': None, 'geo_enabled': True, 'verified': True, 'statuses_count': 794608, 'lang': None, 'contributors_enabled': False, 'is_translator': False, 'is_translation_enabled': False, 'profile_background_color': '1A1B1F', 'profile_background_image_url': 'http://abs.twimg.com/images/themes/theme9/bg.gif', 'profile_background_image_url_https': 'https://abs.twimg.com/images/themes/theme9/bg.gif', 'profile_background_tile': False, 'profile_image_url': 'http://pbs.twimg.com/profile_images/1300145337617661952/Z6rMaX5R_normal.jpg', 'profile_image_url_https': 'https://pbs.twimg.com/profile_images/1300145337617661952/Z6rMaX5R_normal.jpg', 'profile_banner_url': 'https://pbs.twimg.com/profile_banners/36327407/1603844108', 'profile_link_color': '1D8BA1', 'profile_sidebar_border_color': 'FFFFFF', 'profile_sidebar_fill_color': 'BACAD4', 'profile_text_color': '1D1B1B', 'profile_use_background_image': True, 'has_extended_profile': False, 'default_profile': False, 'default_profile_image': False, 'following': True, 'follow_request_sent': False, 'notifications': False, 'translator_type': 'none'}, 'geo': None, 'coordinates': None, 'place': None, 'contributors': None, 'is_quote_status': False, 'retweet_count': 1, 'favorite_count': 13, 'favorited': False, 'retweeted': False, 'possibly_sensitive': False, 'lang': 'en'}, created_at=datetime.datetime(2020, 10, 28, 8, 7, 5), id=1321362841908043776, id_str='1321362841908043776', full_text='#BiharElections2020 | Lakhisarai constituency key contest\\n\\n▪️ BJP: Vijay Kumar Sinha\\n▪️ Congress: Amaresh Kumar \\n\\nA look at what happened in 2015 https://t.co/SUFKiqESrp \\n\\nVoting underway; track updates here: https://t.co/WSD9l85h84 \\n\\n#ElectionsWithHT https://t.co/bMvqJKlb9x', truncated=False, display_text_range=[0, 251], entities={'hashtags': [{'text': 'BiharElections2020', 'indices': [0, 19]}, {'text': 'ElectionsWithHT', 'indices': [235, 251]}], 'symbols': [], 'user_mentions': [], 'urls': [{'url': 'https://t.co/SUFKiqESrp', 'expanded_url': 'https://bit.ly/37LL570', 'display_url': 'bit.ly/37LL570', 'indices': [146, 169]}, {'url': 'https://t.co/WSD9l85h84', 'expanded_url': 'http://bit.ly/3e4oS5i', 'display_url': 'bit.ly/3e4oS5i', 'indices': [209, 232]}], 'media': [{'id': 1321362299773276160, 'id_str': '1321362299773276160', 'indices': [252, 275], 'media_url': 'http://pbs.twimg.com/media/ElZsAsGUUAAo3P6.jpg', 'media_url_https': 'https://pbs.twimg.com/media/ElZsAsGUUAAo3P6.jpg', 'url': 'https://t.co/bMvqJKlb9x', 'display_url': 'pic.twitter.com/bMvqJKlb9x', 'expanded_url': 'https://twitter.com/htTweets/status/1321362841908043776/photo/1', 'type': 'photo', 'sizes': {'thumb': {'w': 150, 'h': 150, 'resize': 'crop'}, 'medium': {'w': 1200, 'h': 675, 'resize': 'fit'}, 'large': {'w': 1200, 'h': 675, 'resize': 'fit'}, 'small': {'w': 680, 'h': 383, 'resize': 'fit'}}}]}, extended_entities={'media': [{'id': 1321362299773276160, 'id_str': '1321362299773276160', 'indices': [252, 275], 'media_url': 'http://pbs.twimg.com/media/ElZsAsGUUAAo3P6.jpg', 'media_url_https': 'https://pbs.twimg.com/media/ElZsAsGUUAAo3P6.jpg', 'url': 'https://t.co/bMvqJKlb9x', 'display_url': 'pic.twitter.com/bMvqJKlb9x', 'expanded_url': 'https://twitter.com/htTweets/status/1321362841908043776/photo/1', 'type': 'photo', 'sizes': {'thumb': {'w': 150, 'h': 150, 'resize': 'crop'}, 'medium': {'w': 1200, 'h': 675, 'resize': 'fit'}, 'large': {'w': 1200, 'h': 675, 'resize': 'fit'}, 'small': {'w': 680, 'h': 383, 'resize': 'fit'}}}]}, metadata={'iso_language_code': 'en', 'result_type': 'recent'}, source='Twitter Web App', source_url='https://mobile.twitter.com', in_reply_to_status_id=None, in_reply_to_status_id_str=None, in_reply_to_user_id=None, in_reply_to_user_id_str=None, in_reply_to_screen_name=None, author=User(_api=<tweepy.api.API object at 0x000001DFFD433C08>, _json={'id': 36327407, 'id_str': '36327407', 'name': 'Hindustan Times', 'screen_name': 'htTweets', 'location': 'India', 'description': \"One of India's largest media companies. Latest news from around the world. Retweets are not endorsements\", 'url': 'https://t.co/yEyv2GeRpS', 'entities': {'url': {'urls': [{'url': 'https://t.co/yEyv2GeRpS', 'expanded_url': 'http://www.hindustantimes.com', 'display_url': 'hindustantimes.com', 'indices': [0, 23]}]}, 'description': {'urls': []}}, 'protected': False, 'followers_count': 7798274, 'friends_count': 125, 'listed_count': 7053, 'created_at': 'Wed Apr 29 10:11:34 +0000 2009', 'favourites_count': 2950, 'utc_offset': None, 'time_zone': None, 'geo_enabled': True, 'verified': True, 'statuses_count': 794608, 'lang': None, 'contributors_enabled': False, 'is_translator': False, 'is_translation_enabled': False, 'profile_background_color': '1A1B1F', 'profile_background_image_url': 'http://abs.twimg.com/images/themes/theme9/bg.gif', 'profile_background_image_url_https': 'https://abs.twimg.com/images/themes/theme9/bg.gif', 'profile_background_tile': False, 'profile_image_url': 'http://pbs.twimg.com/profile_images/1300145337617661952/Z6rMaX5R_normal.jpg', 'profile_image_url_https': 'https://pbs.twimg.com/profile_images/1300145337617661952/Z6rMaX5R_normal.jpg', 'profile_banner_url': 'https://pbs.twimg.com/profile_banners/36327407/1603844108', 'profile_link_color': '1D8BA1', 'profile_sidebar_border_color': 'FFFFFF', 'profile_sidebar_fill_color': 'BACAD4', 'profile_text_color': '1D1B1B', 'profile_use_background_image': True, 'has_extended_profile': False, 'default_profile': False, 'default_profile_image': False, 'following': True, 'follow_request_sent': False, 'notifications': False, 'translator_type': 'none'}, id=36327407, id_str='36327407', name='Hindustan Times', screen_name='htTweets', location='India', description=\"One of India's largest media companies. Latest news from around the world. Retweets are not endorsements\", url='https://t.co/yEyv2GeRpS', entities={'url': {'urls': [{'url': 'https://t.co/yEyv2GeRpS', 'expanded_url': 'http://www.hindustantimes.com', 'display_url': 'hindustantimes.com', 'indices': [0, 23]}]}, 'description': {'urls': []}}, protected=False, followers_count=7798274, friends_count=125, listed_count=7053, created_at=datetime.datetime(2009, 4, 29, 10, 11, 34), favourites_count=2950, utc_offset=None, time_zone=None, geo_enabled=True, verified=True, statuses_count=794608, lang=None, contributors_enabled=False, is_translator=False, is_translation_enabled=False, profile_background_color='1A1B1F', profile_background_image_url='http://abs.twimg.com/images/themes/theme9/bg.gif', profile_background_image_url_https='https://abs.twimg.com/images/themes/theme9/bg.gif', profile_background_tile=False, profile_image_url='http://pbs.twimg.com/profile_images/1300145337617661952/Z6rMaX5R_normal.jpg', profile_image_url_https='https://pbs.twimg.com/profile_images/1300145337617661952/Z6rMaX5R_normal.jpg', profile_banner_url='https://pbs.twimg.com/profile_banners/36327407/1603844108', profile_link_color='1D8BA1', profile_sidebar_border_color='FFFFFF', profile_sidebar_fill_color='BACAD4', profile_text_color='1D1B1B', profile_use_background_image=True, has_extended_profile=False, default_profile=False, default_profile_image=False, following=True, follow_request_sent=False, notifications=False, translator_type='none'), user=User(_api=<tweepy.api.API object at 0x000001DFFD433C08>, _json={'id': 36327407, 'id_str': '36327407', 'name': 'Hindustan Times', 'screen_name': 'htTweets', 'location': 'India', 'description': \"One of India's largest media companies. Latest news from around the world. Retweets are not endorsements\", 'url': 'https://t.co/yEyv2GeRpS', 'entities': {'url': {'urls': [{'url': 'https://t.co/yEyv2GeRpS', 'expanded_url': 'http://www.hindustantimes.com', 'display_url': 'hindustantimes.com', 'indices': [0, 23]}]}, 'description': {'urls': []}}, 'protected': False, 'followers_count': 7798274, 'friends_count': 125, 'listed_count': 7053, 'created_at': 'Wed Apr 29 10:11:34 +0000 2009', 'favourites_count': 2950, 'utc_offset': None, 'time_zone': None, 'geo_enabled': True, 'verified': True, 'statuses_count': 794608, 'lang': None, 'contributors_enabled': False, 'is_translator': False, 'is_translation_enabled': False, 'profile_background_color': '1A1B1F', 'profile_background_image_url': 'http://abs.twimg.com/images/themes/theme9/bg.gif', 'profile_background_image_url_https': 'https://abs.twimg.com/images/themes/theme9/bg.gif', 'profile_background_tile': False, 'profile_image_url': 'http://pbs.twimg.com/profile_images/1300145337617661952/Z6rMaX5R_normal.jpg', 'profile_image_url_https': 'https://pbs.twimg.com/profile_images/1300145337617661952/Z6rMaX5R_normal.jpg', 'profile_banner_url': 'https://pbs.twimg.com/profile_banners/36327407/1603844108', 'profile_link_color': '1D8BA1', 'profile_sidebar_border_color': 'FFFFFF', 'profile_sidebar_fill_color': 'BACAD4', 'profile_text_color': '1D1B1B', 'profile_use_background_image': True, 'has_extended_profile': False, 'default_profile': False, 'default_profile_image': False, 'following': True, 'follow_request_sent': False, 'notifications': False, 'translator_type': 'none'}, id=36327407, id_str='36327407', name='Hindustan Times', screen_name='htTweets', location='India', description=\"One of India's largest media companies. Latest news from around the world. Retweets are not endorsements\", url='https://t.co/yEyv2GeRpS', entities={'url': {'urls': [{'url': 'https://t.co/yEyv2GeRpS', 'expanded_url': 'http://www.hindustantimes.com', 'display_url': 'hindustantimes.com', 'indices': [0, 23]}]}, 'description': {'urls': []}}, protected=False, followers_count=7798274, friends_count=125, listed_count=7053, created_at=datetime.datetime(2009, 4, 29, 10, 11, 34), favourites_count=2950, utc_offset=None, time_zone=None, geo_enabled=True, verified=True, statuses_count=794608, lang=None, contributors_enabled=False, is_translator=False, is_translation_enabled=False, profile_background_color='1A1B1F', profile_background_image_url='http://abs.twimg.com/images/themes/theme9/bg.gif', profile_background_image_url_https='https://abs.twimg.com/images/themes/theme9/bg.gif', profile_background_tile=False, profile_image_url='http://pbs.twimg.com/profile_images/1300145337617661952/Z6rMaX5R_normal.jpg', profile_image_url_https='https://pbs.twimg.com/profile_images/1300145337617661952/Z6rMaX5R_normal.jpg', profile_banner_url='https://pbs.twimg.com/profile_banners/36327407/1603844108', profile_link_color='1D8BA1', profile_sidebar_border_color='FFFFFF', profile_sidebar_fill_color='BACAD4', profile_text_color='1D1B1B', profile_use_background_image=True, has_extended_profile=False, default_profile=False, default_profile_image=False, following=True, follow_request_sent=False, notifications=False, translator_type='none'), geo=None, coordinates=None, place=None, contributors=None, is_quote_status=False, retweet_count=1, favorite_count=13, favorited=False, retweeted=False, possibly_sensitive=False, lang='en') \n",
      "\n",
      "==========================================\n",
      "\n",
      "Status(_api=<tweepy.api.API object at 0x000001DFFD433C08>, _json={'created_at': 'Tue Oct 27 13:30:00 +0000 2020', 'id': 1321081715863900161, 'id_str': '1321081715863900161', 'full_text': '#BiharElections2020 | In Gurua, RJD, BJP and the BSP will battle it out to win the seat \\n\\nVoting will take place on October 28, in the first phase of the #BiharAssemblyElections \\n\\n#ElectionsWithHT\\n\\nhttps://t.co/Y38CxLAgLS https://t.co/DP9dw7S4rD', 'truncated': False, 'display_text_range': [0, 221], 'entities': {'hashtags': [{'text': 'BiharElections2020', 'indices': [0, 19]}, {'text': 'BiharAssemblyElections', 'indices': [154, 177]}, {'text': 'ElectionsWithHT', 'indices': [180, 196]}], 'symbols': [], 'user_mentions': [], 'urls': [{'url': 'https://t.co/Y38CxLAgLS', 'expanded_url': 'https://www.hindustantimes.com/bihar-election/bihar-assembly-elections-2020-all-you-need-to-know-about-gurua-constituency/story-qgGHal6DMHXpNRSAxpBWvJ.html', 'display_url': 'hindustantimes.com/bihar-election…', 'indices': [198, 221]}], 'media': [{'id': 1321003158282252288, 'id_str': '1321003158282252288', 'indices': [222, 245], 'media_url': 'http://pbs.twimg.com/media/ElUlX5yVMAAn_vm.jpg', 'media_url_https': 'https://pbs.twimg.com/media/ElUlX5yVMAAn_vm.jpg', 'url': 'https://t.co/DP9dw7S4rD', 'display_url': 'pic.twitter.com/DP9dw7S4rD', 'expanded_url': 'https://twitter.com/htTweets/status/1321081715863900161/photo/1', 'type': 'photo', 'sizes': {'medium': {'w': 1200, 'h': 675, 'resize': 'fit'}, 'thumb': {'w': 150, 'h': 150, 'resize': 'crop'}, 'small': {'w': 680, 'h': 383, 'resize': 'fit'}, 'large': {'w': 1200, 'h': 675, 'resize': 'fit'}}}]}, 'extended_entities': {'media': [{'id': 1321003158282252288, 'id_str': '1321003158282252288', 'indices': [222, 245], 'media_url': 'http://pbs.twimg.com/media/ElUlX5yVMAAn_vm.jpg', 'media_url_https': 'https://pbs.twimg.com/media/ElUlX5yVMAAn_vm.jpg', 'url': 'https://t.co/DP9dw7S4rD', 'display_url': 'pic.twitter.com/DP9dw7S4rD', 'expanded_url': 'https://twitter.com/htTweets/status/1321081715863900161/photo/1', 'type': 'photo', 'sizes': {'medium': {'w': 1200, 'h': 675, 'resize': 'fit'}, 'thumb': {'w': 150, 'h': 150, 'resize': 'crop'}, 'small': {'w': 680, 'h': 383, 'resize': 'fit'}, 'large': {'w': 1200, 'h': 675, 'resize': 'fit'}}}]}, 'metadata': {'iso_language_code': 'en', 'result_type': 'recent'}, 'source': '<a href=\"https://about.twitter.com/products/tweetdeck\" rel=\"nofollow\">TweetDeck</a>', 'in_reply_to_status_id': None, 'in_reply_to_status_id_str': None, 'in_reply_to_user_id': None, 'in_reply_to_user_id_str': None, 'in_reply_to_screen_name': None, 'user': {'id': 36327407, 'id_str': '36327407', 'name': 'Hindustan Times', 'screen_name': 'htTweets', 'location': 'India', 'description': \"One of India's largest media companies. Latest news from around the world. Retweets are not endorsements\", 'url': 'https://t.co/yEyv2GeRpS', 'entities': {'url': {'urls': [{'url': 'https://t.co/yEyv2GeRpS', 'expanded_url': 'http://www.hindustantimes.com', 'display_url': 'hindustantimes.com', 'indices': [0, 23]}]}, 'description': {'urls': []}}, 'protected': False, 'followers_count': 7798274, 'friends_count': 125, 'listed_count': 7053, 'created_at': 'Wed Apr 29 10:11:34 +0000 2009', 'favourites_count': 2950, 'utc_offset': None, 'time_zone': None, 'geo_enabled': True, 'verified': True, 'statuses_count': 794608, 'lang': None, 'contributors_enabled': False, 'is_translator': False, 'is_translation_enabled': False, 'profile_background_color': '1A1B1F', 'profile_background_image_url': 'http://abs.twimg.com/images/themes/theme9/bg.gif', 'profile_background_image_url_https': 'https://abs.twimg.com/images/themes/theme9/bg.gif', 'profile_background_tile': False, 'profile_image_url': 'http://pbs.twimg.com/profile_images/1300145337617661952/Z6rMaX5R_normal.jpg', 'profile_image_url_https': 'https://pbs.twimg.com/profile_images/1300145337617661952/Z6rMaX5R_normal.jpg', 'profile_banner_url': 'https://pbs.twimg.com/profile_banners/36327407/1603844108', 'profile_link_color': '1D8BA1', 'profile_sidebar_border_color': 'FFFFFF', 'profile_sidebar_fill_color': 'BACAD4', 'profile_text_color': '1D1B1B', 'profile_use_background_image': True, 'has_extended_profile': False, 'default_profile': False, 'default_profile_image': False, 'following': True, 'follow_request_sent': False, 'notifications': False, 'translator_type': 'none'}, 'geo': None, 'coordinates': None, 'place': None, 'contributors': None, 'is_quote_status': False, 'retweet_count': 0, 'favorite_count': 5, 'favorited': False, 'retweeted': False, 'possibly_sensitive': False, 'lang': 'en'}, created_at=datetime.datetime(2020, 10, 27, 13, 30), id=1321081715863900161, id_str='1321081715863900161', full_text='#BiharElections2020 | In Gurua, RJD, BJP and the BSP will battle it out to win the seat \\n\\nVoting will take place on October 28, in the first phase of the #BiharAssemblyElections \\n\\n#ElectionsWithHT\\n\\nhttps://t.co/Y38CxLAgLS https://t.co/DP9dw7S4rD', truncated=False, display_text_range=[0, 221], entities={'hashtags': [{'text': 'BiharElections2020', 'indices': [0, 19]}, {'text': 'BiharAssemblyElections', 'indices': [154, 177]}, {'text': 'ElectionsWithHT', 'indices': [180, 196]}], 'symbols': [], 'user_mentions': [], 'urls': [{'url': 'https://t.co/Y38CxLAgLS', 'expanded_url': 'https://www.hindustantimes.com/bihar-election/bihar-assembly-elections-2020-all-you-need-to-know-about-gurua-constituency/story-qgGHal6DMHXpNRSAxpBWvJ.html', 'display_url': 'hindustantimes.com/bihar-election…', 'indices': [198, 221]}], 'media': [{'id': 1321003158282252288, 'id_str': '1321003158282252288', 'indices': [222, 245], 'media_url': 'http://pbs.twimg.com/media/ElUlX5yVMAAn_vm.jpg', 'media_url_https': 'https://pbs.twimg.com/media/ElUlX5yVMAAn_vm.jpg', 'url': 'https://t.co/DP9dw7S4rD', 'display_url': 'pic.twitter.com/DP9dw7S4rD', 'expanded_url': 'https://twitter.com/htTweets/status/1321081715863900161/photo/1', 'type': 'photo', 'sizes': {'medium': {'w': 1200, 'h': 675, 'resize': 'fit'}, 'thumb': {'w': 150, 'h': 150, 'resize': 'crop'}, 'small': {'w': 680, 'h': 383, 'resize': 'fit'}, 'large': {'w': 1200, 'h': 675, 'resize': 'fit'}}}]}, extended_entities={'media': [{'id': 1321003158282252288, 'id_str': '1321003158282252288', 'indices': [222, 245], 'media_url': 'http://pbs.twimg.com/media/ElUlX5yVMAAn_vm.jpg', 'media_url_https': 'https://pbs.twimg.com/media/ElUlX5yVMAAn_vm.jpg', 'url': 'https://t.co/DP9dw7S4rD', 'display_url': 'pic.twitter.com/DP9dw7S4rD', 'expanded_url': 'https://twitter.com/htTweets/status/1321081715863900161/photo/1', 'type': 'photo', 'sizes': {'medium': {'w': 1200, 'h': 675, 'resize': 'fit'}, 'thumb': {'w': 150, 'h': 150, 'resize': 'crop'}, 'small': {'w': 680, 'h': 383, 'resize': 'fit'}, 'large': {'w': 1200, 'h': 675, 'resize': 'fit'}}}]}, metadata={'iso_language_code': 'en', 'result_type': 'recent'}, source='TweetDeck', source_url='https://about.twitter.com/products/tweetdeck', in_reply_to_status_id=None, in_reply_to_status_id_str=None, in_reply_to_user_id=None, in_reply_to_user_id_str=None, in_reply_to_screen_name=None, author=User(_api=<tweepy.api.API object at 0x000001DFFD433C08>, _json={'id': 36327407, 'id_str': '36327407', 'name': 'Hindustan Times', 'screen_name': 'htTweets', 'location': 'India', 'description': \"One of India's largest media companies. Latest news from around the world. Retweets are not endorsements\", 'url': 'https://t.co/yEyv2GeRpS', 'entities': {'url': {'urls': [{'url': 'https://t.co/yEyv2GeRpS', 'expanded_url': 'http://www.hindustantimes.com', 'display_url': 'hindustantimes.com', 'indices': [0, 23]}]}, 'description': {'urls': []}}, 'protected': False, 'followers_count': 7798274, 'friends_count': 125, 'listed_count': 7053, 'created_at': 'Wed Apr 29 10:11:34 +0000 2009', 'favourites_count': 2950, 'utc_offset': None, 'time_zone': None, 'geo_enabled': True, 'verified': True, 'statuses_count': 794608, 'lang': None, 'contributors_enabled': False, 'is_translator': False, 'is_translation_enabled': False, 'profile_background_color': '1A1B1F', 'profile_background_image_url': 'http://abs.twimg.com/images/themes/theme9/bg.gif', 'profile_background_image_url_https': 'https://abs.twimg.com/images/themes/theme9/bg.gif', 'profile_background_tile': False, 'profile_image_url': 'http://pbs.twimg.com/profile_images/1300145337617661952/Z6rMaX5R_normal.jpg', 'profile_image_url_https': 'https://pbs.twimg.com/profile_images/1300145337617661952/Z6rMaX5R_normal.jpg', 'profile_banner_url': 'https://pbs.twimg.com/profile_banners/36327407/1603844108', 'profile_link_color': '1D8BA1', 'profile_sidebar_border_color': 'FFFFFF', 'profile_sidebar_fill_color': 'BACAD4', 'profile_text_color': '1D1B1B', 'profile_use_background_image': True, 'has_extended_profile': False, 'default_profile': False, 'default_profile_image': False, 'following': True, 'follow_request_sent': False, 'notifications': False, 'translator_type': 'none'}, id=36327407, id_str='36327407', name='Hindustan Times', screen_name='htTweets', location='India', description=\"One of India's largest media companies. Latest news from around the world. Retweets are not endorsements\", url='https://t.co/yEyv2GeRpS', entities={'url': {'urls': [{'url': 'https://t.co/yEyv2GeRpS', 'expanded_url': 'http://www.hindustantimes.com', 'display_url': 'hindustantimes.com', 'indices': [0, 23]}]}, 'description': {'urls': []}}, protected=False, followers_count=7798274, friends_count=125, listed_count=7053, created_at=datetime.datetime(2009, 4, 29, 10, 11, 34), favourites_count=2950, utc_offset=None, time_zone=None, geo_enabled=True, verified=True, statuses_count=794608, lang=None, contributors_enabled=False, is_translator=False, is_translation_enabled=False, profile_background_color='1A1B1F', profile_background_image_url='http://abs.twimg.com/images/themes/theme9/bg.gif', profile_background_image_url_https='https://abs.twimg.com/images/themes/theme9/bg.gif', profile_background_tile=False, profile_image_url='http://pbs.twimg.com/profile_images/1300145337617661952/Z6rMaX5R_normal.jpg', profile_image_url_https='https://pbs.twimg.com/profile_images/1300145337617661952/Z6rMaX5R_normal.jpg', profile_banner_url='https://pbs.twimg.com/profile_banners/36327407/1603844108', profile_link_color='1D8BA1', profile_sidebar_border_color='FFFFFF', profile_sidebar_fill_color='BACAD4', profile_text_color='1D1B1B', profile_use_background_image=True, has_extended_profile=False, default_profile=False, default_profile_image=False, following=True, follow_request_sent=False, notifications=False, translator_type='none'), user=User(_api=<tweepy.api.API object at 0x000001DFFD433C08>, _json={'id': 36327407, 'id_str': '36327407', 'name': 'Hindustan Times', 'screen_name': 'htTweets', 'location': 'India', 'description': \"One of India's largest media companies. Latest news from around the world. Retweets are not endorsements\", 'url': 'https://t.co/yEyv2GeRpS', 'entities': {'url': {'urls': [{'url': 'https://t.co/yEyv2GeRpS', 'expanded_url': 'http://www.hindustantimes.com', 'display_url': 'hindustantimes.com', 'indices': [0, 23]}]}, 'description': {'urls': []}}, 'protected': False, 'followers_count': 7798274, 'friends_count': 125, 'listed_count': 7053, 'created_at': 'Wed Apr 29 10:11:34 +0000 2009', 'favourites_count': 2950, 'utc_offset': None, 'time_zone': None, 'geo_enabled': True, 'verified': True, 'statuses_count': 794608, 'lang': None, 'contributors_enabled': False, 'is_translator': False, 'is_translation_enabled': False, 'profile_background_color': '1A1B1F', 'profile_background_image_url': 'http://abs.twimg.com/images/themes/theme9/bg.gif', 'profile_background_image_url_https': 'https://abs.twimg.com/images/themes/theme9/bg.gif', 'profile_background_tile': False, 'profile_image_url': 'http://pbs.twimg.com/profile_images/1300145337617661952/Z6rMaX5R_normal.jpg', 'profile_image_url_https': 'https://pbs.twimg.com/profile_images/1300145337617661952/Z6rMaX5R_normal.jpg', 'profile_banner_url': 'https://pbs.twimg.com/profile_banners/36327407/1603844108', 'profile_link_color': '1D8BA1', 'profile_sidebar_border_color': 'FFFFFF', 'profile_sidebar_fill_color': 'BACAD4', 'profile_text_color': '1D1B1B', 'profile_use_background_image': True, 'has_extended_profile': False, 'default_profile': False, 'default_profile_image': False, 'following': True, 'follow_request_sent': False, 'notifications': False, 'translator_type': 'none'}, id=36327407, id_str='36327407', name='Hindustan Times', screen_name='htTweets', location='India', description=\"One of India's largest media companies. Latest news from around the world. Retweets are not endorsements\", url='https://t.co/yEyv2GeRpS', entities={'url': {'urls': [{'url': 'https://t.co/yEyv2GeRpS', 'expanded_url': 'http://www.hindustantimes.com', 'display_url': 'hindustantimes.com', 'indices': [0, 23]}]}, 'description': {'urls': []}}, protected=False, followers_count=7798274, friends_count=125, listed_count=7053, created_at=datetime.datetime(2009, 4, 29, 10, 11, 34), favourites_count=2950, utc_offset=None, time_zone=None, geo_enabled=True, verified=True, statuses_count=794608, lang=None, contributors_enabled=False, is_translator=False, is_translation_enabled=False, profile_background_color='1A1B1F', profile_background_image_url='http://abs.twimg.com/images/themes/theme9/bg.gif', profile_background_image_url_https='https://abs.twimg.com/images/themes/theme9/bg.gif', profile_background_tile=False, profile_image_url='http://pbs.twimg.com/profile_images/1300145337617661952/Z6rMaX5R_normal.jpg', profile_image_url_https='https://pbs.twimg.com/profile_images/1300145337617661952/Z6rMaX5R_normal.jpg', profile_banner_url='https://pbs.twimg.com/profile_banners/36327407/1603844108', profile_link_color='1D8BA1', profile_sidebar_border_color='FFFFFF', profile_sidebar_fill_color='BACAD4', profile_text_color='1D1B1B', profile_use_background_image=True, has_extended_profile=False, default_profile=False, default_profile_image=False, following=True, follow_request_sent=False, notifications=False, translator_type='none'), geo=None, coordinates=None, place=None, contributors=None, is_quote_status=False, retweet_count=0, favorite_count=5, favorited=False, retweeted=False, possibly_sensitive=False, lang='en') \n",
      "\n",
      "==========================================\n",
      "\n",
      "Status(_api=<tweepy.api.API object at 0x000001DFFD433C08>, _json={'created_at': 'Mon Oct 26 09:40:00 +0000 2020', 'id': 1320661446536159232, 'id_str': '1320661446536159232', 'full_text': '#BiharElection2020 | The Banka constituency will witness the battle RJD, BJP and the RSLP to win the seat\\n\\nVoting will take place on October 28, in the first phase of the #BiharAssemblyElections \\n\\n#ElectionsWithHT\\n\\nhttps://t.co/ugrnVDg2OB https://t.co/2bMSQTnkdj', 'truncated': False, 'display_text_range': [0, 238], 'entities': {'hashtags': [{'text': 'BiharElection2020', 'indices': [0, 18]}, {'text': 'BiharAssemblyElections', 'indices': [171, 194]}, {'text': 'ElectionsWithHT', 'indices': [197, 213]}], 'symbols': [], 'user_mentions': [], 'urls': [{'url': 'https://t.co/ugrnVDg2OB', 'expanded_url': 'https://www.hindustantimes.com/bihar-election/bihar-election-2020-banka-to-witness-triangular-fight/story-tixKQL5mEBZSNRB5z06TBJ.html', 'display_url': 'hindustantimes.com/bihar-election…', 'indices': [215, 238]}], 'media': [{'id': 1320642575112392705, 'id_str': '1320642575112392705', 'indices': [239, 262], 'media_url': 'http://pbs.twimg.com/media/ElPdbMzU0AEyqpl.jpg', 'media_url_https': 'https://pbs.twimg.com/media/ElPdbMzU0AEyqpl.jpg', 'url': 'https://t.co/2bMSQTnkdj', 'display_url': 'pic.twitter.com/2bMSQTnkdj', 'expanded_url': 'https://twitter.com/htTweets/status/1320661446536159232/photo/1', 'type': 'photo', 'sizes': {'thumb': {'w': 150, 'h': 150, 'resize': 'crop'}, 'medium': {'w': 1200, 'h': 675, 'resize': 'fit'}, 'large': {'w': 1200, 'h': 675, 'resize': 'fit'}, 'small': {'w': 680, 'h': 383, 'resize': 'fit'}}}]}, 'extended_entities': {'media': [{'id': 1320642575112392705, 'id_str': '1320642575112392705', 'indices': [239, 262], 'media_url': 'http://pbs.twimg.com/media/ElPdbMzU0AEyqpl.jpg', 'media_url_https': 'https://pbs.twimg.com/media/ElPdbMzU0AEyqpl.jpg', 'url': 'https://t.co/2bMSQTnkdj', 'display_url': 'pic.twitter.com/2bMSQTnkdj', 'expanded_url': 'https://twitter.com/htTweets/status/1320661446536159232/photo/1', 'type': 'photo', 'sizes': {'thumb': {'w': 150, 'h': 150, 'resize': 'crop'}, 'medium': {'w': 1200, 'h': 675, 'resize': 'fit'}, 'large': {'w': 1200, 'h': 675, 'resize': 'fit'}, 'small': {'w': 680, 'h': 383, 'resize': 'fit'}}}]}, 'metadata': {'iso_language_code': 'en', 'result_type': 'recent'}, 'source': '<a href=\"https://about.twitter.com/products/tweetdeck\" rel=\"nofollow\">TweetDeck</a>', 'in_reply_to_status_id': None, 'in_reply_to_status_id_str': None, 'in_reply_to_user_id': None, 'in_reply_to_user_id_str': None, 'in_reply_to_screen_name': None, 'user': {'id': 36327407, 'id_str': '36327407', 'name': 'Hindustan Times', 'screen_name': 'htTweets', 'location': 'India', 'description': \"One of India's largest media companies. Latest news from around the world. Retweets are not endorsements\", 'url': 'https://t.co/yEyv2GeRpS', 'entities': {'url': {'urls': [{'url': 'https://t.co/yEyv2GeRpS', 'expanded_url': 'http://www.hindustantimes.com', 'display_url': 'hindustantimes.com', 'indices': [0, 23]}]}, 'description': {'urls': []}}, 'protected': False, 'followers_count': 7798274, 'friends_count': 125, 'listed_count': 7053, 'created_at': 'Wed Apr 29 10:11:34 +0000 2009', 'favourites_count': 2950, 'utc_offset': None, 'time_zone': None, 'geo_enabled': True, 'verified': True, 'statuses_count': 794608, 'lang': None, 'contributors_enabled': False, 'is_translator': False, 'is_translation_enabled': False, 'profile_background_color': '1A1B1F', 'profile_background_image_url': 'http://abs.twimg.com/images/themes/theme9/bg.gif', 'profile_background_image_url_https': 'https://abs.twimg.com/images/themes/theme9/bg.gif', 'profile_background_tile': False, 'profile_image_url': 'http://pbs.twimg.com/profile_images/1300145337617661952/Z6rMaX5R_normal.jpg', 'profile_image_url_https': 'https://pbs.twimg.com/profile_images/1300145337617661952/Z6rMaX5R_normal.jpg', 'profile_banner_url': 'https://pbs.twimg.com/profile_banners/36327407/1603844108', 'profile_link_color': '1D8BA1', 'profile_sidebar_border_color': 'FFFFFF', 'profile_sidebar_fill_color': 'BACAD4', 'profile_text_color': '1D1B1B', 'profile_use_background_image': True, 'has_extended_profile': False, 'default_profile': False, 'default_profile_image': False, 'following': True, 'follow_request_sent': False, 'notifications': False, 'translator_type': 'none'}, 'geo': None, 'coordinates': None, 'place': None, 'contributors': None, 'is_quote_status': False, 'retweet_count': 0, 'favorite_count': 13, 'favorited': False, 'retweeted': False, 'possibly_sensitive': False, 'lang': 'en'}, created_at=datetime.datetime(2020, 10, 26, 9, 40), id=1320661446536159232, id_str='1320661446536159232', full_text='#BiharElection2020 | The Banka constituency will witness the battle RJD, BJP and the RSLP to win the seat\\n\\nVoting will take place on October 28, in the first phase of the #BiharAssemblyElections \\n\\n#ElectionsWithHT\\n\\nhttps://t.co/ugrnVDg2OB https://t.co/2bMSQTnkdj', truncated=False, display_text_range=[0, 238], entities={'hashtags': [{'text': 'BiharElection2020', 'indices': [0, 18]}, {'text': 'BiharAssemblyElections', 'indices': [171, 194]}, {'text': 'ElectionsWithHT', 'indices': [197, 213]}], 'symbols': [], 'user_mentions': [], 'urls': [{'url': 'https://t.co/ugrnVDg2OB', 'expanded_url': 'https://www.hindustantimes.com/bihar-election/bihar-election-2020-banka-to-witness-triangular-fight/story-tixKQL5mEBZSNRB5z06TBJ.html', 'display_url': 'hindustantimes.com/bihar-election…', 'indices': [215, 238]}], 'media': [{'id': 1320642575112392705, 'id_str': '1320642575112392705', 'indices': [239, 262], 'media_url': 'http://pbs.twimg.com/media/ElPdbMzU0AEyqpl.jpg', 'media_url_https': 'https://pbs.twimg.com/media/ElPdbMzU0AEyqpl.jpg', 'url': 'https://t.co/2bMSQTnkdj', 'display_url': 'pic.twitter.com/2bMSQTnkdj', 'expanded_url': 'https://twitter.com/htTweets/status/1320661446536159232/photo/1', 'type': 'photo', 'sizes': {'thumb': {'w': 150, 'h': 150, 'resize': 'crop'}, 'medium': {'w': 1200, 'h': 675, 'resize': 'fit'}, 'large': {'w': 1200, 'h': 675, 'resize': 'fit'}, 'small': {'w': 680, 'h': 383, 'resize': 'fit'}}}]}, extended_entities={'media': [{'id': 1320642575112392705, 'id_str': '1320642575112392705', 'indices': [239, 262], 'media_url': 'http://pbs.twimg.com/media/ElPdbMzU0AEyqpl.jpg', 'media_url_https': 'https://pbs.twimg.com/media/ElPdbMzU0AEyqpl.jpg', 'url': 'https://t.co/2bMSQTnkdj', 'display_url': 'pic.twitter.com/2bMSQTnkdj', 'expanded_url': 'https://twitter.com/htTweets/status/1320661446536159232/photo/1', 'type': 'photo', 'sizes': {'thumb': {'w': 150, 'h': 150, 'resize': 'crop'}, 'medium': {'w': 1200, 'h': 675, 'resize': 'fit'}, 'large': {'w': 1200, 'h': 675, 'resize': 'fit'}, 'small': {'w': 680, 'h': 383, 'resize': 'fit'}}}]}, metadata={'iso_language_code': 'en', 'result_type': 'recent'}, source='TweetDeck', source_url='https://about.twitter.com/products/tweetdeck', in_reply_to_status_id=None, in_reply_to_status_id_str=None, in_reply_to_user_id=None, in_reply_to_user_id_str=None, in_reply_to_screen_name=None, author=User(_api=<tweepy.api.API object at 0x000001DFFD433C08>, _json={'id': 36327407, 'id_str': '36327407', 'name': 'Hindustan Times', 'screen_name': 'htTweets', 'location': 'India', 'description': \"One of India's largest media companies. Latest news from around the world. Retweets are not endorsements\", 'url': 'https://t.co/yEyv2GeRpS', 'entities': {'url': {'urls': [{'url': 'https://t.co/yEyv2GeRpS', 'expanded_url': 'http://www.hindustantimes.com', 'display_url': 'hindustantimes.com', 'indices': [0, 23]}]}, 'description': {'urls': []}}, 'protected': False, 'followers_count': 7798274, 'friends_count': 125, 'listed_count': 7053, 'created_at': 'Wed Apr 29 10:11:34 +0000 2009', 'favourites_count': 2950, 'utc_offset': None, 'time_zone': None, 'geo_enabled': True, 'verified': True, 'statuses_count': 794608, 'lang': None, 'contributors_enabled': False, 'is_translator': False, 'is_translation_enabled': False, 'profile_background_color': '1A1B1F', 'profile_background_image_url': 'http://abs.twimg.com/images/themes/theme9/bg.gif', 'profile_background_image_url_https': 'https://abs.twimg.com/images/themes/theme9/bg.gif', 'profile_background_tile': False, 'profile_image_url': 'http://pbs.twimg.com/profile_images/1300145337617661952/Z6rMaX5R_normal.jpg', 'profile_image_url_https': 'https://pbs.twimg.com/profile_images/1300145337617661952/Z6rMaX5R_normal.jpg', 'profile_banner_url': 'https://pbs.twimg.com/profile_banners/36327407/1603844108', 'profile_link_color': '1D8BA1', 'profile_sidebar_border_color': 'FFFFFF', 'profile_sidebar_fill_color': 'BACAD4', 'profile_text_color': '1D1B1B', 'profile_use_background_image': True, 'has_extended_profile': False, 'default_profile': False, 'default_profile_image': False, 'following': True, 'follow_request_sent': False, 'notifications': False, 'translator_type': 'none'}, id=36327407, id_str='36327407', name='Hindustan Times', screen_name='htTweets', location='India', description=\"One of India's largest media companies. Latest news from around the world. Retweets are not endorsements\", url='https://t.co/yEyv2GeRpS', entities={'url': {'urls': [{'url': 'https://t.co/yEyv2GeRpS', 'expanded_url': 'http://www.hindustantimes.com', 'display_url': 'hindustantimes.com', 'indices': [0, 23]}]}, 'description': {'urls': []}}, protected=False, followers_count=7798274, friends_count=125, listed_count=7053, created_at=datetime.datetime(2009, 4, 29, 10, 11, 34), favourites_count=2950, utc_offset=None, time_zone=None, geo_enabled=True, verified=True, statuses_count=794608, lang=None, contributors_enabled=False, is_translator=False, is_translation_enabled=False, profile_background_color='1A1B1F', profile_background_image_url='http://abs.twimg.com/images/themes/theme9/bg.gif', profile_background_image_url_https='https://abs.twimg.com/images/themes/theme9/bg.gif', profile_background_tile=False, profile_image_url='http://pbs.twimg.com/profile_images/1300145337617661952/Z6rMaX5R_normal.jpg', profile_image_url_https='https://pbs.twimg.com/profile_images/1300145337617661952/Z6rMaX5R_normal.jpg', profile_banner_url='https://pbs.twimg.com/profile_banners/36327407/1603844108', profile_link_color='1D8BA1', profile_sidebar_border_color='FFFFFF', profile_sidebar_fill_color='BACAD4', profile_text_color='1D1B1B', profile_use_background_image=True, has_extended_profile=False, default_profile=False, default_profile_image=False, following=True, follow_request_sent=False, notifications=False, translator_type='none'), user=User(_api=<tweepy.api.API object at 0x000001DFFD433C08>, _json={'id': 36327407, 'id_str': '36327407', 'name': 'Hindustan Times', 'screen_name': 'htTweets', 'location': 'India', 'description': \"One of India's largest media companies. Latest news from around the world. Retweets are not endorsements\", 'url': 'https://t.co/yEyv2GeRpS', 'entities': {'url': {'urls': [{'url': 'https://t.co/yEyv2GeRpS', 'expanded_url': 'http://www.hindustantimes.com', 'display_url': 'hindustantimes.com', 'indices': [0, 23]}]}, 'description': {'urls': []}}, 'protected': False, 'followers_count': 7798274, 'friends_count': 125, 'listed_count': 7053, 'created_at': 'Wed Apr 29 10:11:34 +0000 2009', 'favourites_count': 2950, 'utc_offset': None, 'time_zone': None, 'geo_enabled': True, 'verified': True, 'statuses_count': 794608, 'lang': None, 'contributors_enabled': False, 'is_translator': False, 'is_translation_enabled': False, 'profile_background_color': '1A1B1F', 'profile_background_image_url': 'http://abs.twimg.com/images/themes/theme9/bg.gif', 'profile_background_image_url_https': 'https://abs.twimg.com/images/themes/theme9/bg.gif', 'profile_background_tile': False, 'profile_image_url': 'http://pbs.twimg.com/profile_images/1300145337617661952/Z6rMaX5R_normal.jpg', 'profile_image_url_https': 'https://pbs.twimg.com/profile_images/1300145337617661952/Z6rMaX5R_normal.jpg', 'profile_banner_url': 'https://pbs.twimg.com/profile_banners/36327407/1603844108', 'profile_link_color': '1D8BA1', 'profile_sidebar_border_color': 'FFFFFF', 'profile_sidebar_fill_color': 'BACAD4', 'profile_text_color': '1D1B1B', 'profile_use_background_image': True, 'has_extended_profile': False, 'default_profile': False, 'default_profile_image': False, 'following': True, 'follow_request_sent': False, 'notifications': False, 'translator_type': 'none'}, id=36327407, id_str='36327407', name='Hindustan Times', screen_name='htTweets', location='India', description=\"One of India's largest media companies. Latest news from around the world. Retweets are not endorsements\", url='https://t.co/yEyv2GeRpS', entities={'url': {'urls': [{'url': 'https://t.co/yEyv2GeRpS', 'expanded_url': 'http://www.hindustantimes.com', 'display_url': 'hindustantimes.com', 'indices': [0, 23]}]}, 'description': {'urls': []}}, protected=False, followers_count=7798274, friends_count=125, listed_count=7053, created_at=datetime.datetime(2009, 4, 29, 10, 11, 34), favourites_count=2950, utc_offset=None, time_zone=None, geo_enabled=True, verified=True, statuses_count=794608, lang=None, contributors_enabled=False, is_translator=False, is_translation_enabled=False, profile_background_color='1A1B1F', profile_background_image_url='http://abs.twimg.com/images/themes/theme9/bg.gif', profile_background_image_url_https='https://abs.twimg.com/images/themes/theme9/bg.gif', profile_background_tile=False, profile_image_url='http://pbs.twimg.com/profile_images/1300145337617661952/Z6rMaX5R_normal.jpg', profile_image_url_https='https://pbs.twimg.com/profile_images/1300145337617661952/Z6rMaX5R_normal.jpg', profile_banner_url='https://pbs.twimg.com/profile_banners/36327407/1603844108', profile_link_color='1D8BA1', profile_sidebar_border_color='FFFFFF', profile_sidebar_fill_color='BACAD4', profile_text_color='1D1B1B', profile_use_background_image=True, has_extended_profile=False, default_profile=False, default_profile_image=False, following=True, follow_request_sent=False, notifications=False, translator_type='none'), geo=None, coordinates=None, place=None, contributors=None, is_quote_status=False, retweet_count=0, favorite_count=13, favorited=False, retweeted=False, possibly_sensitive=False, lang='en') \n",
      "\n",
      "==========================================\n",
      "\n",
      "Status(_api=<tweepy.api.API object at 0x000001DFFD433C08>, _json={'created_at': 'Sun Oct 25 05:46:21 +0000 2020', 'id': 1320240261448880134, 'id_str': '1320240261448880134', 'full_text': \"Janata Dal &amp; BJP can't win election on their own credit that's why they are trying to spread Jangal Raj in Bihar. Independent candidate Narayan Singh shot dead in Bihar. #Shame on BJP &amp; Janata Dal.\\nhttps://t.co/3urlnjsI6C\\n\\n@IYC @IYCWestBengal @IYCBihar @INCBihar\", 'truncated': False, 'display_text_range': [0, 270], 'entities': {'hashtags': [{'text': 'Shame', 'indices': [174, 180]}], 'symbols': [], 'user_mentions': [{'screen_name': 'IYC', 'name': 'Youth Congress', 'id': 16293020, 'id_str': '16293020', 'indices': [231, 235]}, {'screen_name': 'IYCWestBengal', 'name': 'WB Youth Congress', 'id': 3244378314, 'id_str': '3244378314', 'indices': [236, 250]}, {'screen_name': 'IYCBihar', 'name': 'Bihar Youth Congress', 'id': 3192953702, 'id_str': '3192953702', 'indices': [251, 260]}, {'screen_name': 'INCBihar', 'name': 'INCBihar', 'id': 922120340032991232, 'id_str': '922120340032991232', 'indices': [261, 270]}], 'urls': [{'url': 'https://t.co/3urlnjsI6C', 'expanded_url': 'https://www.indiatoday.in/elections/story/bihar-independent-candidate-narayan-singh-shot-dead-supporters-beat-assailant-to-death-1734801-2020-10-24', 'display_url': 'indiatoday.in/elections/stor…', 'indices': [206, 229]}]}, 'metadata': {'iso_language_code': 'en', 'result_type': 'recent'}, 'source': '<a href=\"http://twitter.com/download/android\" rel=\"nofollow\">Twitter for Android</a>', 'in_reply_to_status_id': None, 'in_reply_to_status_id_str': None, 'in_reply_to_user_id': None, 'in_reply_to_user_id_str': None, 'in_reply_to_screen_name': None, 'user': {'id': 746354708927832065, 'id_str': '746354708927832065', 'name': 'WB Hooghly DYC', 'screen_name': 'YHooghly', 'location': '', 'description': 'Official Account of Hooghly District Youth Congress', 'url': None, 'entities': {'description': {'urls': []}}, 'protected': False, 'followers_count': 310, 'friends_count': 181, 'listed_count': 3, 'created_at': 'Fri Jun 24 14:50:04 +0000 2016', 'favourites_count': 2570, 'utc_offset': None, 'time_zone': None, 'geo_enabled': False, 'verified': False, 'statuses_count': 6147, 'lang': None, 'contributors_enabled': False, 'is_translator': False, 'is_translation_enabled': False, 'profile_background_color': 'F5F8FA', 'profile_background_image_url': None, 'profile_background_image_url_https': None, 'profile_background_tile': False, 'profile_image_url': 'http://pbs.twimg.com/profile_images/1303405314721505280/km10pvEl_normal.jpg', 'profile_image_url_https': 'https://pbs.twimg.com/profile_images/1303405314721505280/km10pvEl_normal.jpg', 'profile_banner_url': 'https://pbs.twimg.com/profile_banners/746354708927832065/1597252151', 'profile_link_color': '1DA1F2', 'profile_sidebar_border_color': 'C0DEED', 'profile_sidebar_fill_color': 'DDEEF6', 'profile_text_color': '333333', 'profile_use_background_image': True, 'has_extended_profile': False, 'default_profile': True, 'default_profile_image': False, 'following': False, 'follow_request_sent': False, 'notifications': False, 'translator_type': 'none'}, 'geo': None, 'coordinates': None, 'place': None, 'contributors': None, 'is_quote_status': False, 'retweet_count': 0, 'favorite_count': 0, 'favorited': False, 'retweeted': False, 'possibly_sensitive': False, 'lang': 'en'}, created_at=datetime.datetime(2020, 10, 25, 5, 46, 21), id=1320240261448880134, id_str='1320240261448880134', full_text=\"Janata Dal &amp; BJP can't win election on their own credit that's why they are trying to spread Jangal Raj in Bihar. Independent candidate Narayan Singh shot dead in Bihar. #Shame on BJP &amp; Janata Dal.\\nhttps://t.co/3urlnjsI6C\\n\\n@IYC @IYCWestBengal @IYCBihar @INCBihar\", truncated=False, display_text_range=[0, 270], entities={'hashtags': [{'text': 'Shame', 'indices': [174, 180]}], 'symbols': [], 'user_mentions': [{'screen_name': 'IYC', 'name': 'Youth Congress', 'id': 16293020, 'id_str': '16293020', 'indices': [231, 235]}, {'screen_name': 'IYCWestBengal', 'name': 'WB Youth Congress', 'id': 3244378314, 'id_str': '3244378314', 'indices': [236, 250]}, {'screen_name': 'IYCBihar', 'name': 'Bihar Youth Congress', 'id': 3192953702, 'id_str': '3192953702', 'indices': [251, 260]}, {'screen_name': 'INCBihar', 'name': 'INCBihar', 'id': 922120340032991232, 'id_str': '922120340032991232', 'indices': [261, 270]}], 'urls': [{'url': 'https://t.co/3urlnjsI6C', 'expanded_url': 'https://www.indiatoday.in/elections/story/bihar-independent-candidate-narayan-singh-shot-dead-supporters-beat-assailant-to-death-1734801-2020-10-24', 'display_url': 'indiatoday.in/elections/stor…', 'indices': [206, 229]}]}, metadata={'iso_language_code': 'en', 'result_type': 'recent'}, source='Twitter for Android', source_url='http://twitter.com/download/android', in_reply_to_status_id=None, in_reply_to_status_id_str=None, in_reply_to_user_id=None, in_reply_to_user_id_str=None, in_reply_to_screen_name=None, author=User(_api=<tweepy.api.API object at 0x000001DFFD433C08>, _json={'id': 746354708927832065, 'id_str': '746354708927832065', 'name': 'WB Hooghly DYC', 'screen_name': 'YHooghly', 'location': '', 'description': 'Official Account of Hooghly District Youth Congress', 'url': None, 'entities': {'description': {'urls': []}}, 'protected': False, 'followers_count': 310, 'friends_count': 181, 'listed_count': 3, 'created_at': 'Fri Jun 24 14:50:04 +0000 2016', 'favourites_count': 2570, 'utc_offset': None, 'time_zone': None, 'geo_enabled': False, 'verified': False, 'statuses_count': 6147, 'lang': None, 'contributors_enabled': False, 'is_translator': False, 'is_translation_enabled': False, 'profile_background_color': 'F5F8FA', 'profile_background_image_url': None, 'profile_background_image_url_https': None, 'profile_background_tile': False, 'profile_image_url': 'http://pbs.twimg.com/profile_images/1303405314721505280/km10pvEl_normal.jpg', 'profile_image_url_https': 'https://pbs.twimg.com/profile_images/1303405314721505280/km10pvEl_normal.jpg', 'profile_banner_url': 'https://pbs.twimg.com/profile_banners/746354708927832065/1597252151', 'profile_link_color': '1DA1F2', 'profile_sidebar_border_color': 'C0DEED', 'profile_sidebar_fill_color': 'DDEEF6', 'profile_text_color': '333333', 'profile_use_background_image': True, 'has_extended_profile': False, 'default_profile': True, 'default_profile_image': False, 'following': False, 'follow_request_sent': False, 'notifications': False, 'translator_type': 'none'}, id=746354708927832065, id_str='746354708927832065', name='WB Hooghly DYC', screen_name='YHooghly', location='', description='Official Account of Hooghly District Youth Congress', url=None, entities={'description': {'urls': []}}, protected=False, followers_count=310, friends_count=181, listed_count=3, created_at=datetime.datetime(2016, 6, 24, 14, 50, 4), favourites_count=2570, utc_offset=None, time_zone=None, geo_enabled=False, verified=False, statuses_count=6147, lang=None, contributors_enabled=False, is_translator=False, is_translation_enabled=False, profile_background_color='F5F8FA', profile_background_image_url=None, profile_background_image_url_https=None, profile_background_tile=False, profile_image_url='http://pbs.twimg.com/profile_images/1303405314721505280/km10pvEl_normal.jpg', profile_image_url_https='https://pbs.twimg.com/profile_images/1303405314721505280/km10pvEl_normal.jpg', profile_banner_url='https://pbs.twimg.com/profile_banners/746354708927832065/1597252151', profile_link_color='1DA1F2', profile_sidebar_border_color='C0DEED', profile_sidebar_fill_color='DDEEF6', profile_text_color='333333', profile_use_background_image=True, has_extended_profile=False, default_profile=True, default_profile_image=False, following=False, follow_request_sent=False, notifications=False, translator_type='none'), user=User(_api=<tweepy.api.API object at 0x000001DFFD433C08>, _json={'id': 746354708927832065, 'id_str': '746354708927832065', 'name': 'WB Hooghly DYC', 'screen_name': 'YHooghly', 'location': '', 'description': 'Official Account of Hooghly District Youth Congress', 'url': None, 'entities': {'description': {'urls': []}}, 'protected': False, 'followers_count': 310, 'friends_count': 181, 'listed_count': 3, 'created_at': 'Fri Jun 24 14:50:04 +0000 2016', 'favourites_count': 2570, 'utc_offset': None, 'time_zone': None, 'geo_enabled': False, 'verified': False, 'statuses_count': 6147, 'lang': None, 'contributors_enabled': False, 'is_translator': False, 'is_translation_enabled': False, 'profile_background_color': 'F5F8FA', 'profile_background_image_url': None, 'profile_background_image_url_https': None, 'profile_background_tile': False, 'profile_image_url': 'http://pbs.twimg.com/profile_images/1303405314721505280/km10pvEl_normal.jpg', 'profile_image_url_https': 'https://pbs.twimg.com/profile_images/1303405314721505280/km10pvEl_normal.jpg', 'profile_banner_url': 'https://pbs.twimg.com/profile_banners/746354708927832065/1597252151', 'profile_link_color': '1DA1F2', 'profile_sidebar_border_color': 'C0DEED', 'profile_sidebar_fill_color': 'DDEEF6', 'profile_text_color': '333333', 'profile_use_background_image': True, 'has_extended_profile': False, 'default_profile': True, 'default_profile_image': False, 'following': False, 'follow_request_sent': False, 'notifications': False, 'translator_type': 'none'}, id=746354708927832065, id_str='746354708927832065', name='WB Hooghly DYC', screen_name='YHooghly', location='', description='Official Account of Hooghly District Youth Congress', url=None, entities={'description': {'urls': []}}, protected=False, followers_count=310, friends_count=181, listed_count=3, created_at=datetime.datetime(2016, 6, 24, 14, 50, 4), favourites_count=2570, utc_offset=None, time_zone=None, geo_enabled=False, verified=False, statuses_count=6147, lang=None, contributors_enabled=False, is_translator=False, is_translation_enabled=False, profile_background_color='F5F8FA', profile_background_image_url=None, profile_background_image_url_https=None, profile_background_tile=False, profile_image_url='http://pbs.twimg.com/profile_images/1303405314721505280/km10pvEl_normal.jpg', profile_image_url_https='https://pbs.twimg.com/profile_images/1303405314721505280/km10pvEl_normal.jpg', profile_banner_url='https://pbs.twimg.com/profile_banners/746354708927832065/1597252151', profile_link_color='1DA1F2', profile_sidebar_border_color='C0DEED', profile_sidebar_fill_color='DDEEF6', profile_text_color='333333', profile_use_background_image=True, has_extended_profile=False, default_profile=True, default_profile_image=False, following=False, follow_request_sent=False, notifications=False, translator_type='none'), geo=None, coordinates=None, place=None, contributors=None, is_quote_status=False, retweet_count=0, favorite_count=0, favorited=False, retweeted=False, possibly_sensitive=False, lang='en') \n",
      "\n",
      "==========================================\n",
      "\n",
      "Status(_api=<tweepy.api.API object at 0x000001DFFD433C08>, _json={'created_at': 'Sun Oct 25 00:11:17 +0000 2020', 'id': 1320155936908963841, 'id_str': '1320155936908963841', 'full_text': '@Nher_who While we have a fair impression on the direction of wind in Bihar, our attention is now needed on a more important election - the MP bypolls. Let not BJP or its bootlicking chamchas manage to win a single seat that they did not win earlier\\n\\n#MPByPoll2020\\n\\nhttps://t.co/bEgLHddq1b', 'truncated': False, 'display_text_range': [10, 289], 'entities': {'hashtags': [{'text': 'MPByPoll2020', 'indices': [251, 264]}], 'symbols': [], 'user_mentions': [{'screen_name': 'Nher_who', 'name': 'Nehr_who?', 'id': 788998565381021696, 'id_str': '788998565381021696', 'indices': [0, 9]}], 'urls': [{'url': 'https://t.co/bEgLHddq1b', 'expanded_url': 'https://news.google.com/articles/CAIiEDFsK5KR8Azn065UubpcMBAqFggEKg4IACoGCAoww7k_MMevCDDpywE?hl=en-IN&gl=IN&ceid=IN%3Aen', 'display_url': 'news.google.com/articles/CAIiE…', 'indices': [266, 289]}]}, 'metadata': {'iso_language_code': 'en', 'result_type': 'recent'}, 'source': '<a href=\"https://mobile.twitter.com\" rel=\"nofollow\">Twitter Web App</a>', 'in_reply_to_status_id': 1320025383647916035, 'in_reply_to_status_id_str': '1320025383647916035', 'in_reply_to_user_id': 788998565381021696, 'in_reply_to_user_id_str': '788998565381021696', 'in_reply_to_screen_name': 'Nher_who', 'user': {'id': 332822437, 'id_str': '332822437', 'name': 'Tathagato Roychoudhury', 'screen_name': 'tathagatorc', 'location': 'New Delhi', 'description': 'Maverick, Rebel with a cause, Free thinker, Activist...', 'url': 'https://t.co/jkyjbU2A7Z', 'entities': {'url': {'urls': [{'url': 'https://t.co/jkyjbU2A7Z', 'expanded_url': 'https://www.facebook.com/tathagatorc', 'display_url': 'facebook.com/tathagatorc', 'indices': [0, 23]}]}, 'description': {'urls': []}}, 'protected': False, 'followers_count': 84, 'friends_count': 93, 'listed_count': 0, 'created_at': 'Sun Jul 10 13:49:09 +0000 2011', 'favourites_count': 1128, 'utc_offset': None, 'time_zone': None, 'geo_enabled': True, 'verified': False, 'statuses_count': 2560, 'lang': None, 'contributors_enabled': False, 'is_translator': False, 'is_translation_enabled': False, 'profile_background_color': 'C0DEED', 'profile_background_image_url': 'http://abs.twimg.com/images/themes/theme1/bg.png', 'profile_background_image_url_https': 'https://abs.twimg.com/images/themes/theme1/bg.png', 'profile_background_tile': False, 'profile_image_url': 'http://pbs.twimg.com/profile_images/1224869396109197312/TIB4wbxi_normal.jpg', 'profile_image_url_https': 'https://pbs.twimg.com/profile_images/1224869396109197312/TIB4wbxi_normal.jpg', 'profile_banner_url': 'https://pbs.twimg.com/profile_banners/332822437/1583725520', 'profile_link_color': '1DA1F2', 'profile_sidebar_border_color': 'C0DEED', 'profile_sidebar_fill_color': 'DDEEF6', 'profile_text_color': '333333', 'profile_use_background_image': True, 'has_extended_profile': False, 'default_profile': True, 'default_profile_image': False, 'following': False, 'follow_request_sent': False, 'notifications': False, 'translator_type': 'none'}, 'geo': None, 'coordinates': None, 'place': None, 'contributors': None, 'is_quote_status': False, 'retweet_count': 0, 'favorite_count': 1, 'favorited': False, 'retweeted': False, 'possibly_sensitive': False, 'lang': 'en'}, created_at=datetime.datetime(2020, 10, 25, 0, 11, 17), id=1320155936908963841, id_str='1320155936908963841', full_text='@Nher_who While we have a fair impression on the direction of wind in Bihar, our attention is now needed on a more important election - the MP bypolls. Let not BJP or its bootlicking chamchas manage to win a single seat that they did not win earlier\\n\\n#MPByPoll2020\\n\\nhttps://t.co/bEgLHddq1b', truncated=False, display_text_range=[10, 289], entities={'hashtags': [{'text': 'MPByPoll2020', 'indices': [251, 264]}], 'symbols': [], 'user_mentions': [{'screen_name': 'Nher_who', 'name': 'Nehr_who?', 'id': 788998565381021696, 'id_str': '788998565381021696', 'indices': [0, 9]}], 'urls': [{'url': 'https://t.co/bEgLHddq1b', 'expanded_url': 'https://news.google.com/articles/CAIiEDFsK5KR8Azn065UubpcMBAqFggEKg4IACoGCAoww7k_MMevCDDpywE?hl=en-IN&gl=IN&ceid=IN%3Aen', 'display_url': 'news.google.com/articles/CAIiE…', 'indices': [266, 289]}]}, metadata={'iso_language_code': 'en', 'result_type': 'recent'}, source='Twitter Web App', source_url='https://mobile.twitter.com', in_reply_to_status_id=1320025383647916035, in_reply_to_status_id_str='1320025383647916035', in_reply_to_user_id=788998565381021696, in_reply_to_user_id_str='788998565381021696', in_reply_to_screen_name='Nher_who', author=User(_api=<tweepy.api.API object at 0x000001DFFD433C08>, _json={'id': 332822437, 'id_str': '332822437', 'name': 'Tathagato Roychoudhury', 'screen_name': 'tathagatorc', 'location': 'New Delhi', 'description': 'Maverick, Rebel with a cause, Free thinker, Activist...', 'url': 'https://t.co/jkyjbU2A7Z', 'entities': {'url': {'urls': [{'url': 'https://t.co/jkyjbU2A7Z', 'expanded_url': 'https://www.facebook.com/tathagatorc', 'display_url': 'facebook.com/tathagatorc', 'indices': [0, 23]}]}, 'description': {'urls': []}}, 'protected': False, 'followers_count': 84, 'friends_count': 93, 'listed_count': 0, 'created_at': 'Sun Jul 10 13:49:09 +0000 2011', 'favourites_count': 1128, 'utc_offset': None, 'time_zone': None, 'geo_enabled': True, 'verified': False, 'statuses_count': 2560, 'lang': None, 'contributors_enabled': False, 'is_translator': False, 'is_translation_enabled': False, 'profile_background_color': 'C0DEED', 'profile_background_image_url': 'http://abs.twimg.com/images/themes/theme1/bg.png', 'profile_background_image_url_https': 'https://abs.twimg.com/images/themes/theme1/bg.png', 'profile_background_tile': False, 'profile_image_url': 'http://pbs.twimg.com/profile_images/1224869396109197312/TIB4wbxi_normal.jpg', 'profile_image_url_https': 'https://pbs.twimg.com/profile_images/1224869396109197312/TIB4wbxi_normal.jpg', 'profile_banner_url': 'https://pbs.twimg.com/profile_banners/332822437/1583725520', 'profile_link_color': '1DA1F2', 'profile_sidebar_border_color': 'C0DEED', 'profile_sidebar_fill_color': 'DDEEF6', 'profile_text_color': '333333', 'profile_use_background_image': True, 'has_extended_profile': False, 'default_profile': True, 'default_profile_image': False, 'following': False, 'follow_request_sent': False, 'notifications': False, 'translator_type': 'none'}, id=332822437, id_str='332822437', name='Tathagato Roychoudhury', screen_name='tathagatorc', location='New Delhi', description='Maverick, Rebel with a cause, Free thinker, Activist...', url='https://t.co/jkyjbU2A7Z', entities={'url': {'urls': [{'url': 'https://t.co/jkyjbU2A7Z', 'expanded_url': 'https://www.facebook.com/tathagatorc', 'display_url': 'facebook.com/tathagatorc', 'indices': [0, 23]}]}, 'description': {'urls': []}}, protected=False, followers_count=84, friends_count=93, listed_count=0, created_at=datetime.datetime(2011, 7, 10, 13, 49, 9), favourites_count=1128, utc_offset=None, time_zone=None, geo_enabled=True, verified=False, statuses_count=2560, lang=None, contributors_enabled=False, is_translator=False, is_translation_enabled=False, profile_background_color='C0DEED', profile_background_image_url='http://abs.twimg.com/images/themes/theme1/bg.png', profile_background_image_url_https='https://abs.twimg.com/images/themes/theme1/bg.png', profile_background_tile=False, profile_image_url='http://pbs.twimg.com/profile_images/1224869396109197312/TIB4wbxi_normal.jpg', profile_image_url_https='https://pbs.twimg.com/profile_images/1224869396109197312/TIB4wbxi_normal.jpg', profile_banner_url='https://pbs.twimg.com/profile_banners/332822437/1583725520', profile_link_color='1DA1F2', profile_sidebar_border_color='C0DEED', profile_sidebar_fill_color='DDEEF6', profile_text_color='333333', profile_use_background_image=True, has_extended_profile=False, default_profile=True, default_profile_image=False, following=False, follow_request_sent=False, notifications=False, translator_type='none'), user=User(_api=<tweepy.api.API object at 0x000001DFFD433C08>, _json={'id': 332822437, 'id_str': '332822437', 'name': 'Tathagato Roychoudhury', 'screen_name': 'tathagatorc', 'location': 'New Delhi', 'description': 'Maverick, Rebel with a cause, Free thinker, Activist...', 'url': 'https://t.co/jkyjbU2A7Z', 'entities': {'url': {'urls': [{'url': 'https://t.co/jkyjbU2A7Z', 'expanded_url': 'https://www.facebook.com/tathagatorc', 'display_url': 'facebook.com/tathagatorc', 'indices': [0, 23]}]}, 'description': {'urls': []}}, 'protected': False, 'followers_count': 84, 'friends_count': 93, 'listed_count': 0, 'created_at': 'Sun Jul 10 13:49:09 +0000 2011', 'favourites_count': 1128, 'utc_offset': None, 'time_zone': None, 'geo_enabled': True, 'verified': False, 'statuses_count': 2560, 'lang': None, 'contributors_enabled': False, 'is_translator': False, 'is_translation_enabled': False, 'profile_background_color': 'C0DEED', 'profile_background_image_url': 'http://abs.twimg.com/images/themes/theme1/bg.png', 'profile_background_image_url_https': 'https://abs.twimg.com/images/themes/theme1/bg.png', 'profile_background_tile': False, 'profile_image_url': 'http://pbs.twimg.com/profile_images/1224869396109197312/TIB4wbxi_normal.jpg', 'profile_image_url_https': 'https://pbs.twimg.com/profile_images/1224869396109197312/TIB4wbxi_normal.jpg', 'profile_banner_url': 'https://pbs.twimg.com/profile_banners/332822437/1583725520', 'profile_link_color': '1DA1F2', 'profile_sidebar_border_color': 'C0DEED', 'profile_sidebar_fill_color': 'DDEEF6', 'profile_text_color': '333333', 'profile_use_background_image': True, 'has_extended_profile': False, 'default_profile': True, 'default_profile_image': False, 'following': False, 'follow_request_sent': False, 'notifications': False, 'translator_type': 'none'}, id=332822437, id_str='332822437', name='Tathagato Roychoudhury', screen_name='tathagatorc', location='New Delhi', description='Maverick, Rebel with a cause, Free thinker, Activist...', url='https://t.co/jkyjbU2A7Z', entities={'url': {'urls': [{'url': 'https://t.co/jkyjbU2A7Z', 'expanded_url': 'https://www.facebook.com/tathagatorc', 'display_url': 'facebook.com/tathagatorc', 'indices': [0, 23]}]}, 'description': {'urls': []}}, protected=False, followers_count=84, friends_count=93, listed_count=0, created_at=datetime.datetime(2011, 7, 10, 13, 49, 9), favourites_count=1128, utc_offset=None, time_zone=None, geo_enabled=True, verified=False, statuses_count=2560, lang=None, contributors_enabled=False, is_translator=False, is_translation_enabled=False, profile_background_color='C0DEED', profile_background_image_url='http://abs.twimg.com/images/themes/theme1/bg.png', profile_background_image_url_https='https://abs.twimg.com/images/themes/theme1/bg.png', profile_background_tile=False, profile_image_url='http://pbs.twimg.com/profile_images/1224869396109197312/TIB4wbxi_normal.jpg', profile_image_url_https='https://pbs.twimg.com/profile_images/1224869396109197312/TIB4wbxi_normal.jpg', profile_banner_url='https://pbs.twimg.com/profile_banners/332822437/1583725520', profile_link_color='1DA1F2', profile_sidebar_border_color='C0DEED', profile_sidebar_fill_color='DDEEF6', profile_text_color='333333', profile_use_background_image=True, has_extended_profile=False, default_profile=True, default_profile_image=False, following=False, follow_request_sent=False, notifications=False, translator_type='none'), geo=None, coordinates=None, place=None, contributors=None, is_quote_status=False, retweet_count=0, favorite_count=1, favorited=False, retweeted=False, possibly_sensitive=False, lang='en') \n",
      "\n",
      "==========================================\n",
      "\n",
      "Status(_api=<tweepy.api.API object at 0x000001DFFD433C08>, _json={'created_at': 'Sun Oct 25 00:10:11 +0000 2020', 'id': 1320155659011125248, 'id_str': '1320155659011125248', 'full_text': '@MaheshPSahoo While we have a fair impression on the direction of wind in Bihar, our attention is now needed on a more important election - the MP bypolls. Let not BJP or its bootlicking chamchas manage to win a single seat that they did not win earlier\\n\\n#MPByPoll2020\\n\\nhttps://t.co/bEgLHddq1b', 'truncated': False, 'display_text_range': [14, 293], 'entities': {'hashtags': [{'text': 'MPByPoll2020', 'indices': [255, 268]}], 'symbols': [], 'user_mentions': [{'screen_name': 'MaheshPSahoo', 'name': 'Mahesh Prakash Sahoo', 'id': 2975976374, 'id_str': '2975976374', 'indices': [0, 13]}], 'urls': [{'url': 'https://t.co/bEgLHddq1b', 'expanded_url': 'https://news.google.com/articles/CAIiEDFsK5KR8Azn065UubpcMBAqFggEKg4IACoGCAoww7k_MMevCDDpywE?hl=en-IN&gl=IN&ceid=IN%3Aen', 'display_url': 'news.google.com/articles/CAIiE…', 'indices': [270, 293]}]}, 'metadata': {'iso_language_code': 'en', 'result_type': 'recent'}, 'source': '<a href=\"https://mobile.twitter.com\" rel=\"nofollow\">Twitter Web App</a>', 'in_reply_to_status_id': 1319974850052583425, 'in_reply_to_status_id_str': '1319974850052583425', 'in_reply_to_user_id': 2975976374, 'in_reply_to_user_id_str': '2975976374', 'in_reply_to_screen_name': 'MaheshPSahoo', 'user': {'id': 332822437, 'id_str': '332822437', 'name': 'Tathagato Roychoudhury', 'screen_name': 'tathagatorc', 'location': 'New Delhi', 'description': 'Maverick, Rebel with a cause, Free thinker, Activist...', 'url': 'https://t.co/jkyjbU2A7Z', 'entities': {'url': {'urls': [{'url': 'https://t.co/jkyjbU2A7Z', 'expanded_url': 'https://www.facebook.com/tathagatorc', 'display_url': 'facebook.com/tathagatorc', 'indices': [0, 23]}]}, 'description': {'urls': []}}, 'protected': False, 'followers_count': 84, 'friends_count': 93, 'listed_count': 0, 'created_at': 'Sun Jul 10 13:49:09 +0000 2011', 'favourites_count': 1128, 'utc_offset': None, 'time_zone': None, 'geo_enabled': True, 'verified': False, 'statuses_count': 2560, 'lang': None, 'contributors_enabled': False, 'is_translator': False, 'is_translation_enabled': False, 'profile_background_color': 'C0DEED', 'profile_background_image_url': 'http://abs.twimg.com/images/themes/theme1/bg.png', 'profile_background_image_url_https': 'https://abs.twimg.com/images/themes/theme1/bg.png', 'profile_background_tile': False, 'profile_image_url': 'http://pbs.twimg.com/profile_images/1224869396109197312/TIB4wbxi_normal.jpg', 'profile_image_url_https': 'https://pbs.twimg.com/profile_images/1224869396109197312/TIB4wbxi_normal.jpg', 'profile_banner_url': 'https://pbs.twimg.com/profile_banners/332822437/1583725520', 'profile_link_color': '1DA1F2', 'profile_sidebar_border_color': 'C0DEED', 'profile_sidebar_fill_color': 'DDEEF6', 'profile_text_color': '333333', 'profile_use_background_image': True, 'has_extended_profile': False, 'default_profile': True, 'default_profile_image': False, 'following': False, 'follow_request_sent': False, 'notifications': False, 'translator_type': 'none'}, 'geo': None, 'coordinates': None, 'place': None, 'contributors': None, 'is_quote_status': False, 'retweet_count': 0, 'favorite_count': 1, 'favorited': False, 'retweeted': False, 'possibly_sensitive': False, 'lang': 'en'}, created_at=datetime.datetime(2020, 10, 25, 0, 10, 11), id=1320155659011125248, id_str='1320155659011125248', full_text='@MaheshPSahoo While we have a fair impression on the direction of wind in Bihar, our attention is now needed on a more important election - the MP bypolls. Let not BJP or its bootlicking chamchas manage to win a single seat that they did not win earlier\\n\\n#MPByPoll2020\\n\\nhttps://t.co/bEgLHddq1b', truncated=False, display_text_range=[14, 293], entities={'hashtags': [{'text': 'MPByPoll2020', 'indices': [255, 268]}], 'symbols': [], 'user_mentions': [{'screen_name': 'MaheshPSahoo', 'name': 'Mahesh Prakash Sahoo', 'id': 2975976374, 'id_str': '2975976374', 'indices': [0, 13]}], 'urls': [{'url': 'https://t.co/bEgLHddq1b', 'expanded_url': 'https://news.google.com/articles/CAIiEDFsK5KR8Azn065UubpcMBAqFggEKg4IACoGCAoww7k_MMevCDDpywE?hl=en-IN&gl=IN&ceid=IN%3Aen', 'display_url': 'news.google.com/articles/CAIiE…', 'indices': [270, 293]}]}, metadata={'iso_language_code': 'en', 'result_type': 'recent'}, source='Twitter Web App', source_url='https://mobile.twitter.com', in_reply_to_status_id=1319974850052583425, in_reply_to_status_id_str='1319974850052583425', in_reply_to_user_id=2975976374, in_reply_to_user_id_str='2975976374', in_reply_to_screen_name='MaheshPSahoo', author=User(_api=<tweepy.api.API object at 0x000001DFFD433C08>, _json={'id': 332822437, 'id_str': '332822437', 'name': 'Tathagato Roychoudhury', 'screen_name': 'tathagatorc', 'location': 'New Delhi', 'description': 'Maverick, Rebel with a cause, Free thinker, Activist...', 'url': 'https://t.co/jkyjbU2A7Z', 'entities': {'url': {'urls': [{'url': 'https://t.co/jkyjbU2A7Z', 'expanded_url': 'https://www.facebook.com/tathagatorc', 'display_url': 'facebook.com/tathagatorc', 'indices': [0, 23]}]}, 'description': {'urls': []}}, 'protected': False, 'followers_count': 84, 'friends_count': 93, 'listed_count': 0, 'created_at': 'Sun Jul 10 13:49:09 +0000 2011', 'favourites_count': 1128, 'utc_offset': None, 'time_zone': None, 'geo_enabled': True, 'verified': False, 'statuses_count': 2560, 'lang': None, 'contributors_enabled': False, 'is_translator': False, 'is_translation_enabled': False, 'profile_background_color': 'C0DEED', 'profile_background_image_url': 'http://abs.twimg.com/images/themes/theme1/bg.png', 'profile_background_image_url_https': 'https://abs.twimg.com/images/themes/theme1/bg.png', 'profile_background_tile': False, 'profile_image_url': 'http://pbs.twimg.com/profile_images/1224869396109197312/TIB4wbxi_normal.jpg', 'profile_image_url_https': 'https://pbs.twimg.com/profile_images/1224869396109197312/TIB4wbxi_normal.jpg', 'profile_banner_url': 'https://pbs.twimg.com/profile_banners/332822437/1583725520', 'profile_link_color': '1DA1F2', 'profile_sidebar_border_color': 'C0DEED', 'profile_sidebar_fill_color': 'DDEEF6', 'profile_text_color': '333333', 'profile_use_background_image': True, 'has_extended_profile': False, 'default_profile': True, 'default_profile_image': False, 'following': False, 'follow_request_sent': False, 'notifications': False, 'translator_type': 'none'}, id=332822437, id_str='332822437', name='Tathagato Roychoudhury', screen_name='tathagatorc', location='New Delhi', description='Maverick, Rebel with a cause, Free thinker, Activist...', url='https://t.co/jkyjbU2A7Z', entities={'url': {'urls': [{'url': 'https://t.co/jkyjbU2A7Z', 'expanded_url': 'https://www.facebook.com/tathagatorc', 'display_url': 'facebook.com/tathagatorc', 'indices': [0, 23]}]}, 'description': {'urls': []}}, protected=False, followers_count=84, friends_count=93, listed_count=0, created_at=datetime.datetime(2011, 7, 10, 13, 49, 9), favourites_count=1128, utc_offset=None, time_zone=None, geo_enabled=True, verified=False, statuses_count=2560, lang=None, contributors_enabled=False, is_translator=False, is_translation_enabled=False, profile_background_color='C0DEED', profile_background_image_url='http://abs.twimg.com/images/themes/theme1/bg.png', profile_background_image_url_https='https://abs.twimg.com/images/themes/theme1/bg.png', profile_background_tile=False, profile_image_url='http://pbs.twimg.com/profile_images/1224869396109197312/TIB4wbxi_normal.jpg', profile_image_url_https='https://pbs.twimg.com/profile_images/1224869396109197312/TIB4wbxi_normal.jpg', profile_banner_url='https://pbs.twimg.com/profile_banners/332822437/1583725520', profile_link_color='1DA1F2', profile_sidebar_border_color='C0DEED', profile_sidebar_fill_color='DDEEF6', profile_text_color='333333', profile_use_background_image=True, has_extended_profile=False, default_profile=True, default_profile_image=False, following=False, follow_request_sent=False, notifications=False, translator_type='none'), user=User(_api=<tweepy.api.API object at 0x000001DFFD433C08>, _json={'id': 332822437, 'id_str': '332822437', 'name': 'Tathagato Roychoudhury', 'screen_name': 'tathagatorc', 'location': 'New Delhi', 'description': 'Maverick, Rebel with a cause, Free thinker, Activist...', 'url': 'https://t.co/jkyjbU2A7Z', 'entities': {'url': {'urls': [{'url': 'https://t.co/jkyjbU2A7Z', 'expanded_url': 'https://www.facebook.com/tathagatorc', 'display_url': 'facebook.com/tathagatorc', 'indices': [0, 23]}]}, 'description': {'urls': []}}, 'protected': False, 'followers_count': 84, 'friends_count': 93, 'listed_count': 0, 'created_at': 'Sun Jul 10 13:49:09 +0000 2011', 'favourites_count': 1128, 'utc_offset': None, 'time_zone': None, 'geo_enabled': True, 'verified': False, 'statuses_count': 2560, 'lang': None, 'contributors_enabled': False, 'is_translator': False, 'is_translation_enabled': False, 'profile_background_color': 'C0DEED', 'profile_background_image_url': 'http://abs.twimg.com/images/themes/theme1/bg.png', 'profile_background_image_url_https': 'https://abs.twimg.com/images/themes/theme1/bg.png', 'profile_background_tile': False, 'profile_image_url': 'http://pbs.twimg.com/profile_images/1224869396109197312/TIB4wbxi_normal.jpg', 'profile_image_url_https': 'https://pbs.twimg.com/profile_images/1224869396109197312/TIB4wbxi_normal.jpg', 'profile_banner_url': 'https://pbs.twimg.com/profile_banners/332822437/1583725520', 'profile_link_color': '1DA1F2', 'profile_sidebar_border_color': 'C0DEED', 'profile_sidebar_fill_color': 'DDEEF6', 'profile_text_color': '333333', 'profile_use_background_image': True, 'has_extended_profile': False, 'default_profile': True, 'default_profile_image': False, 'following': False, 'follow_request_sent': False, 'notifications': False, 'translator_type': 'none'}, id=332822437, id_str='332822437', name='Tathagato Roychoudhury', screen_name='tathagatorc', location='New Delhi', description='Maverick, Rebel with a cause, Free thinker, Activist...', url='https://t.co/jkyjbU2A7Z', entities={'url': {'urls': [{'url': 'https://t.co/jkyjbU2A7Z', 'expanded_url': 'https://www.facebook.com/tathagatorc', 'display_url': 'facebook.com/tathagatorc', 'indices': [0, 23]}]}, 'description': {'urls': []}}, protected=False, followers_count=84, friends_count=93, listed_count=0, created_at=datetime.datetime(2011, 7, 10, 13, 49, 9), favourites_count=1128, utc_offset=None, time_zone=None, geo_enabled=True, verified=False, statuses_count=2560, lang=None, contributors_enabled=False, is_translator=False, is_translation_enabled=False, profile_background_color='C0DEED', profile_background_image_url='http://abs.twimg.com/images/themes/theme1/bg.png', profile_background_image_url_https='https://abs.twimg.com/images/themes/theme1/bg.png', profile_background_tile=False, profile_image_url='http://pbs.twimg.com/profile_images/1224869396109197312/TIB4wbxi_normal.jpg', profile_image_url_https='https://pbs.twimg.com/profile_images/1224869396109197312/TIB4wbxi_normal.jpg', profile_banner_url='https://pbs.twimg.com/profile_banners/332822437/1583725520', profile_link_color='1DA1F2', profile_sidebar_border_color='C0DEED', profile_sidebar_fill_color='DDEEF6', profile_text_color='333333', profile_use_background_image=True, has_extended_profile=False, default_profile=True, default_profile_image=False, following=False, follow_request_sent=False, notifications=False, translator_type='none'), geo=None, coordinates=None, place=None, contributors=None, is_quote_status=False, retweet_count=0, favorite_count=1, favorited=False, retweeted=False, possibly_sensitive=False, lang='en') \n",
      "\n",
      "==========================================\n",
      "\n",
      "Status(_api=<tweepy.api.API object at 0x000001DFFD433C08>, _json={'created_at': 'Sun Oct 25 00:07:10 +0000 2020', 'id': 1320154900467122177, 'id_str': '1320154900467122177', 'full_text': 'While we have a fair impression on the direction of wind in Bihar, our attention is now needed on a more important election - the MP bypolls. Let not BJP or its bootlicking chamchas manage to win a single seat that they did not win earlier\\n\\n#MPByPoll2020\\n\\nhttps://t.co/bEgLHddq1b', 'truncated': False, 'display_text_range': [0, 279], 'entities': {'hashtags': [{'text': 'MPByPoll2020', 'indices': [241, 254]}], 'symbols': [], 'user_mentions': [], 'urls': [{'url': 'https://t.co/bEgLHddq1b', 'expanded_url': 'https://news.google.com/articles/CAIiEDFsK5KR8Azn065UubpcMBAqFggEKg4IACoGCAoww7k_MMevCDDpywE?hl=en-IN&gl=IN&ceid=IN%3Aen', 'display_url': 'news.google.com/articles/CAIiE…', 'indices': [256, 279]}]}, 'metadata': {'iso_language_code': 'en', 'result_type': 'recent'}, 'source': '<a href=\"https://mobile.twitter.com\" rel=\"nofollow\">Twitter Web App</a>', 'in_reply_to_status_id': None, 'in_reply_to_status_id_str': None, 'in_reply_to_user_id': None, 'in_reply_to_user_id_str': None, 'in_reply_to_screen_name': None, 'user': {'id': 332822437, 'id_str': '332822437', 'name': 'Tathagato Roychoudhury', 'screen_name': 'tathagatorc', 'location': 'New Delhi', 'description': 'Maverick, Rebel with a cause, Free thinker, Activist...', 'url': 'https://t.co/jkyjbU2A7Z', 'entities': {'url': {'urls': [{'url': 'https://t.co/jkyjbU2A7Z', 'expanded_url': 'https://www.facebook.com/tathagatorc', 'display_url': 'facebook.com/tathagatorc', 'indices': [0, 23]}]}, 'description': {'urls': []}}, 'protected': False, 'followers_count': 84, 'friends_count': 93, 'listed_count': 0, 'created_at': 'Sun Jul 10 13:49:09 +0000 2011', 'favourites_count': 1128, 'utc_offset': None, 'time_zone': None, 'geo_enabled': True, 'verified': False, 'statuses_count': 2560, 'lang': None, 'contributors_enabled': False, 'is_translator': False, 'is_translation_enabled': False, 'profile_background_color': 'C0DEED', 'profile_background_image_url': 'http://abs.twimg.com/images/themes/theme1/bg.png', 'profile_background_image_url_https': 'https://abs.twimg.com/images/themes/theme1/bg.png', 'profile_background_tile': False, 'profile_image_url': 'http://pbs.twimg.com/profile_images/1224869396109197312/TIB4wbxi_normal.jpg', 'profile_image_url_https': 'https://pbs.twimg.com/profile_images/1224869396109197312/TIB4wbxi_normal.jpg', 'profile_banner_url': 'https://pbs.twimg.com/profile_banners/332822437/1583725520', 'profile_link_color': '1DA1F2', 'profile_sidebar_border_color': 'C0DEED', 'profile_sidebar_fill_color': 'DDEEF6', 'profile_text_color': '333333', 'profile_use_background_image': True, 'has_extended_profile': False, 'default_profile': True, 'default_profile_image': False, 'following': False, 'follow_request_sent': False, 'notifications': False, 'translator_type': 'none'}, 'geo': None, 'coordinates': None, 'place': None, 'contributors': None, 'is_quote_status': False, 'retweet_count': 0, 'favorite_count': 0, 'favorited': False, 'retweeted': False, 'possibly_sensitive': False, 'lang': 'en'}, created_at=datetime.datetime(2020, 10, 25, 0, 7, 10), id=1320154900467122177, id_str='1320154900467122177', full_text='While we have a fair impression on the direction of wind in Bihar, our attention is now needed on a more important election - the MP bypolls. Let not BJP or its bootlicking chamchas manage to win a single seat that they did not win earlier\\n\\n#MPByPoll2020\\n\\nhttps://t.co/bEgLHddq1b', truncated=False, display_text_range=[0, 279], entities={'hashtags': [{'text': 'MPByPoll2020', 'indices': [241, 254]}], 'symbols': [], 'user_mentions': [], 'urls': [{'url': 'https://t.co/bEgLHddq1b', 'expanded_url': 'https://news.google.com/articles/CAIiEDFsK5KR8Azn065UubpcMBAqFggEKg4IACoGCAoww7k_MMevCDDpywE?hl=en-IN&gl=IN&ceid=IN%3Aen', 'display_url': 'news.google.com/articles/CAIiE…', 'indices': [256, 279]}]}, metadata={'iso_language_code': 'en', 'result_type': 'recent'}, source='Twitter Web App', source_url='https://mobile.twitter.com', in_reply_to_status_id=None, in_reply_to_status_id_str=None, in_reply_to_user_id=None, in_reply_to_user_id_str=None, in_reply_to_screen_name=None, author=User(_api=<tweepy.api.API object at 0x000001DFFD433C08>, _json={'id': 332822437, 'id_str': '332822437', 'name': 'Tathagato Roychoudhury', 'screen_name': 'tathagatorc', 'location': 'New Delhi', 'description': 'Maverick, Rebel with a cause, Free thinker, Activist...', 'url': 'https://t.co/jkyjbU2A7Z', 'entities': {'url': {'urls': [{'url': 'https://t.co/jkyjbU2A7Z', 'expanded_url': 'https://www.facebook.com/tathagatorc', 'display_url': 'facebook.com/tathagatorc', 'indices': [0, 23]}]}, 'description': {'urls': []}}, 'protected': False, 'followers_count': 84, 'friends_count': 93, 'listed_count': 0, 'created_at': 'Sun Jul 10 13:49:09 +0000 2011', 'favourites_count': 1128, 'utc_offset': None, 'time_zone': None, 'geo_enabled': True, 'verified': False, 'statuses_count': 2560, 'lang': None, 'contributors_enabled': False, 'is_translator': False, 'is_translation_enabled': False, 'profile_background_color': 'C0DEED', 'profile_background_image_url': 'http://abs.twimg.com/images/themes/theme1/bg.png', 'profile_background_image_url_https': 'https://abs.twimg.com/images/themes/theme1/bg.png', 'profile_background_tile': False, 'profile_image_url': 'http://pbs.twimg.com/profile_images/1224869396109197312/TIB4wbxi_normal.jpg', 'profile_image_url_https': 'https://pbs.twimg.com/profile_images/1224869396109197312/TIB4wbxi_normal.jpg', 'profile_banner_url': 'https://pbs.twimg.com/profile_banners/332822437/1583725520', 'profile_link_color': '1DA1F2', 'profile_sidebar_border_color': 'C0DEED', 'profile_sidebar_fill_color': 'DDEEF6', 'profile_text_color': '333333', 'profile_use_background_image': True, 'has_extended_profile': False, 'default_profile': True, 'default_profile_image': False, 'following': False, 'follow_request_sent': False, 'notifications': False, 'translator_type': 'none'}, id=332822437, id_str='332822437', name='Tathagato Roychoudhury', screen_name='tathagatorc', location='New Delhi', description='Maverick, Rebel with a cause, Free thinker, Activist...', url='https://t.co/jkyjbU2A7Z', entities={'url': {'urls': [{'url': 'https://t.co/jkyjbU2A7Z', 'expanded_url': 'https://www.facebook.com/tathagatorc', 'display_url': 'facebook.com/tathagatorc', 'indices': [0, 23]}]}, 'description': {'urls': []}}, protected=False, followers_count=84, friends_count=93, listed_count=0, created_at=datetime.datetime(2011, 7, 10, 13, 49, 9), favourites_count=1128, utc_offset=None, time_zone=None, geo_enabled=True, verified=False, statuses_count=2560, lang=None, contributors_enabled=False, is_translator=False, is_translation_enabled=False, profile_background_color='C0DEED', profile_background_image_url='http://abs.twimg.com/images/themes/theme1/bg.png', profile_background_image_url_https='https://abs.twimg.com/images/themes/theme1/bg.png', profile_background_tile=False, profile_image_url='http://pbs.twimg.com/profile_images/1224869396109197312/TIB4wbxi_normal.jpg', profile_image_url_https='https://pbs.twimg.com/profile_images/1224869396109197312/TIB4wbxi_normal.jpg', profile_banner_url='https://pbs.twimg.com/profile_banners/332822437/1583725520', profile_link_color='1DA1F2', profile_sidebar_border_color='C0DEED', profile_sidebar_fill_color='DDEEF6', profile_text_color='333333', profile_use_background_image=True, has_extended_profile=False, default_profile=True, default_profile_image=False, following=False, follow_request_sent=False, notifications=False, translator_type='none'), user=User(_api=<tweepy.api.API object at 0x000001DFFD433C08>, _json={'id': 332822437, 'id_str': '332822437', 'name': 'Tathagato Roychoudhury', 'screen_name': 'tathagatorc', 'location': 'New Delhi', 'description': 'Maverick, Rebel with a cause, Free thinker, Activist...', 'url': 'https://t.co/jkyjbU2A7Z', 'entities': {'url': {'urls': [{'url': 'https://t.co/jkyjbU2A7Z', 'expanded_url': 'https://www.facebook.com/tathagatorc', 'display_url': 'facebook.com/tathagatorc', 'indices': [0, 23]}]}, 'description': {'urls': []}}, 'protected': False, 'followers_count': 84, 'friends_count': 93, 'listed_count': 0, 'created_at': 'Sun Jul 10 13:49:09 +0000 2011', 'favourites_count': 1128, 'utc_offset': None, 'time_zone': None, 'geo_enabled': True, 'verified': False, 'statuses_count': 2560, 'lang': None, 'contributors_enabled': False, 'is_translator': False, 'is_translation_enabled': False, 'profile_background_color': 'C0DEED', 'profile_background_image_url': 'http://abs.twimg.com/images/themes/theme1/bg.png', 'profile_background_image_url_https': 'https://abs.twimg.com/images/themes/theme1/bg.png', 'profile_background_tile': False, 'profile_image_url': 'http://pbs.twimg.com/profile_images/1224869396109197312/TIB4wbxi_normal.jpg', 'profile_image_url_https': 'https://pbs.twimg.com/profile_images/1224869396109197312/TIB4wbxi_normal.jpg', 'profile_banner_url': 'https://pbs.twimg.com/profile_banners/332822437/1583725520', 'profile_link_color': '1DA1F2', 'profile_sidebar_border_color': 'C0DEED', 'profile_sidebar_fill_color': 'DDEEF6', 'profile_text_color': '333333', 'profile_use_background_image': True, 'has_extended_profile': False, 'default_profile': True, 'default_profile_image': False, 'following': False, 'follow_request_sent': False, 'notifications': False, 'translator_type': 'none'}, id=332822437, id_str='332822437', name='Tathagato Roychoudhury', screen_name='tathagatorc', location='New Delhi', description='Maverick, Rebel with a cause, Free thinker, Activist...', url='https://t.co/jkyjbU2A7Z', entities={'url': {'urls': [{'url': 'https://t.co/jkyjbU2A7Z', 'expanded_url': 'https://www.facebook.com/tathagatorc', 'display_url': 'facebook.com/tathagatorc', 'indices': [0, 23]}]}, 'description': {'urls': []}}, protected=False, followers_count=84, friends_count=93, listed_count=0, created_at=datetime.datetime(2011, 7, 10, 13, 49, 9), favourites_count=1128, utc_offset=None, time_zone=None, geo_enabled=True, verified=False, statuses_count=2560, lang=None, contributors_enabled=False, is_translator=False, is_translation_enabled=False, profile_background_color='C0DEED', profile_background_image_url='http://abs.twimg.com/images/themes/theme1/bg.png', profile_background_image_url_https='https://abs.twimg.com/images/themes/theme1/bg.png', profile_background_tile=False, profile_image_url='http://pbs.twimg.com/profile_images/1224869396109197312/TIB4wbxi_normal.jpg', profile_image_url_https='https://pbs.twimg.com/profile_images/1224869396109197312/TIB4wbxi_normal.jpg', profile_banner_url='https://pbs.twimg.com/profile_banners/332822437/1583725520', profile_link_color='1DA1F2', profile_sidebar_border_color='C0DEED', profile_sidebar_fill_color='DDEEF6', profile_text_color='333333', profile_use_background_image=True, has_extended_profile=False, default_profile=True, default_profile_image=False, following=False, follow_request_sent=False, notifications=False, translator_type='none'), geo=None, coordinates=None, place=None, contributors=None, is_quote_status=False, retweet_count=0, favorite_count=0, favorited=False, retweeted=False, possibly_sensitive=False, lang='en') \n",
      "\n",
      "==========================================\n",
      "\n"
     ]
    }
   ],
   "source": [
    "Tweets = api.search(query, count=10, lang='en', exclude='retweets',tweet_mode='extended')\n",
    "\n",
    "for tweet in Tweets:\n",
    "    print(tweet,\"\\n\")\n",
    "    print(\"==========================================\\n\")"
   ]
  },
  {
   "cell_type": "code",
   "execution_count": 6,
   "metadata": {},
   "outputs": [
    {
     "name": "stdout",
     "output_type": "stream",
     "text": [
      "Empty DataFrame\n",
      "Columns: [Tweets, User, User_statuses_count, user_followers, User_location, User_verified, fav_count, rt_count, tweet_date]\n",
      "Index: []\n",
      "(0, 9)\n"
     ]
    }
   ],
   "source": [
    "df = pd.DataFrame(columns=['Tweets','User','User_statuses_count','user_followers','User_location','User_verified','fav_count','rt_count','tweet_date'])\n",
    "print(df)\n",
    "print(df.shape)"
   ]
  },
  {
   "cell_type": "code",
   "execution_count": 7,
   "metadata": {},
   "outputs": [],
   "source": [
    "def stream_data(data, file):\n",
    "    i=0\n",
    "    for tweet in tweepy.Cursor(api.search, q=data, count=100, lang='en').items():\n",
    "        print(i, end=\"\\r\")\n",
    "        df.loc[i,'Tweets'] = tweet.text\n",
    "        df.loc[i,'User'] = tweet.user.name\n",
    "        df.loc[i,'User_statuses_count'] = tweet.user.statuses_count\n",
    "        df.loc[i,'user_followers'] = tweet.user.followers_count\n",
    "        df.loc[i,'User_location'] = tweet.user.location\n",
    "        df.loc[i,'User_verified'] = tweet.user.verified\n",
    "        df.loc[i,'fav_count'] = tweet.favorite_count\n",
    "        df.loc[i,'rt_count'] = tweet.retweet_count\n",
    "        df.loc[i, 'tweet_date'] = tweet.created_at\n",
    "        df.to_excel('{}.xlsx'.format(file))\n",
    "        i = i+1\n",
    "        if i == 1000:\n",
    "            break\n",
    "        else:\n",
    "            pass\n",
    " "
   ]
  },
  {
   "cell_type": "code",
   "execution_count": 8,
   "metadata": {},
   "outputs": [
    {
     "name": "stdout",
     "output_type": "stream",
     "text": [
      "999\r"
     ]
    }
   ],
   "source": [
    "stream_data(data=[\"Covid cases in India\"], file = \"my_tweets\")"
   ]
  },
  {
   "cell_type": "code",
   "execution_count": 9,
   "metadata": {},
   "outputs": [
    {
     "data": {
      "text/html": [
       "<div>\n",
       "<style scoped>\n",
       "    .dataframe tbody tr th:only-of-type {\n",
       "        vertical-align: middle;\n",
       "    }\n",
       "\n",
       "    .dataframe tbody tr th {\n",
       "        vertical-align: top;\n",
       "    }\n",
       "\n",
       "    .dataframe thead th {\n",
       "        text-align: right;\n",
       "    }\n",
       "</style>\n",
       "<table border=\"1\" class=\"dataframe\">\n",
       "  <thead>\n",
       "    <tr style=\"text-align: right;\">\n",
       "      <th></th>\n",
       "      <th>Tweets</th>\n",
       "      <th>User</th>\n",
       "      <th>User_statuses_count</th>\n",
       "      <th>user_followers</th>\n",
       "      <th>User_location</th>\n",
       "      <th>User_verified</th>\n",
       "      <th>fav_count</th>\n",
       "      <th>rt_count</th>\n",
       "      <th>tweet_date</th>\n",
       "    </tr>\n",
       "  </thead>\n",
       "  <tbody>\n",
       "    <tr>\n",
       "      <th>0</th>\n",
       "      <td>@vijayrupanibjp @GSNRGF @CMOGuj @narendramodi ...</td>\n",
       "      <td>Yakesh Patel</td>\n",
       "      <td>5662</td>\n",
       "      <td>50</td>\n",
       "      <td>New Jersey, USA</td>\n",
       "      <td>False</td>\n",
       "      <td>0</td>\n",
       "      <td>0</td>\n",
       "      <td>2020-10-30 01:04:05</td>\n",
       "    </tr>\n",
       "    <tr>\n",
       "      <th>1</th>\n",
       "      <td>India’s daily number of daily new cases has al...</td>\n",
       "      <td>MrOwl</td>\n",
       "      <td>13299</td>\n",
       "      <td>2755</td>\n",
       "      <td></td>\n",
       "      <td>False</td>\n",
       "      <td>0</td>\n",
       "      <td>0</td>\n",
       "      <td>2020-10-30 01:01:07</td>\n",
       "    </tr>\n",
       "    <tr>\n",
       "      <th>2</th>\n",
       "      <td>RT @RavindraGautam_: The Maharashtra governmen...</td>\n",
       "      <td>Bluntly Speaking</td>\n",
       "      <td>514</td>\n",
       "      <td>30</td>\n",
       "      <td>New Delhi, India</td>\n",
       "      <td>False</td>\n",
       "      <td>0</td>\n",
       "      <td>4</td>\n",
       "      <td>2020-10-30 00:59:39</td>\n",
       "    </tr>\n",
       "    <tr>\n",
       "      <th>3</th>\n",
       "      <td>RT @drshamamohd: India touched 8 million #COVI...</td>\n",
       "      <td>Sameer Bhaskar Jadhav</td>\n",
       "      <td>5370</td>\n",
       "      <td>76</td>\n",
       "      <td>Mumbai, India</td>\n",
       "      <td>False</td>\n",
       "      <td>0</td>\n",
       "      <td>153</td>\n",
       "      <td>2020-10-30 00:59:20</td>\n",
       "    </tr>\n",
       "    <tr>\n",
       "      <th>4</th>\n",
       "      <td>RT @RavindraGautam_: The Maharashtra governmen...</td>\n",
       "      <td>Aquarius Mediaa</td>\n",
       "      <td>2478</td>\n",
       "      <td>429</td>\n",
       "      <td>Delhi, India</td>\n",
       "      <td>False</td>\n",
       "      <td>0</td>\n",
       "      <td>4</td>\n",
       "      <td>2020-10-30 00:58:23</td>\n",
       "    </tr>\n",
       "  </tbody>\n",
       "</table>\n",
       "</div>"
      ],
      "text/plain": [
       "                                              Tweets                   User  \\\n",
       "0  @vijayrupanibjp @GSNRGF @CMOGuj @narendramodi ...           Yakesh Patel   \n",
       "1  India’s daily number of daily new cases has al...                  MrOwl   \n",
       "2  RT @RavindraGautam_: The Maharashtra governmen...       Bluntly Speaking   \n",
       "3  RT @drshamamohd: India touched 8 million #COVI...  Sameer Bhaskar Jadhav   \n",
       "4  RT @RavindraGautam_: The Maharashtra governmen...        Aquarius Mediaa   \n",
       "\n",
       "  User_statuses_count user_followers     User_location User_verified  \\\n",
       "0                5662             50   New Jersey, USA         False   \n",
       "1               13299           2755                           False   \n",
       "2                 514             30  New Delhi, India         False   \n",
       "3                5370             76     Mumbai, India         False   \n",
       "4                2478            429      Delhi, India         False   \n",
       "\n",
       "  fav_count rt_count           tweet_date  \n",
       "0         0        0  2020-10-30 01:04:05  \n",
       "1         0        0  2020-10-30 01:01:07  \n",
       "2         0        4  2020-10-30 00:59:39  \n",
       "3         0      153  2020-10-30 00:59:20  \n",
       "4         0        4  2020-10-30 00:58:23  "
      ]
     },
     "execution_count": 9,
     "metadata": {},
     "output_type": "execute_result"
    }
   ],
   "source": [
    "df.head()"
   ]
  },
  {
   "cell_type": "code",
   "execution_count": 21,
   "metadata": {},
   "outputs": [],
   "source": [
    "df.drop('rt_count', axis=0, inplace=True)"
   ]
  },
  {
   "cell_type": "code",
   "execution_count": 22,
   "metadata": {},
   "outputs": [
    {
     "data": {
      "text/html": [
       "<div>\n",
       "<style scoped>\n",
       "    .dataframe tbody tr th:only-of-type {\n",
       "        vertical-align: middle;\n",
       "    }\n",
       "\n",
       "    .dataframe tbody tr th {\n",
       "        vertical-align: top;\n",
       "    }\n",
       "\n",
       "    .dataframe thead th {\n",
       "        text-align: right;\n",
       "    }\n",
       "</style>\n",
       "<table border=\"1\" class=\"dataframe\">\n",
       "  <thead>\n",
       "    <tr style=\"text-align: right;\">\n",
       "      <th></th>\n",
       "      <th>Tweets</th>\n",
       "      <th>User</th>\n",
       "      <th>User_statuses_count</th>\n",
       "      <th>user_followers</th>\n",
       "      <th>User_location</th>\n",
       "      <th>User_verified</th>\n",
       "      <th>fav_count</th>\n",
       "      <th>rt_count</th>\n",
       "      <th>tweet_date</th>\n",
       "    </tr>\n",
       "  </thead>\n",
       "  <tbody>\n",
       "    <tr>\n",
       "      <th>0</th>\n",
       "      <td>RT @rdivia: India's daily cases might be comin...</td>\n",
       "      <td>sachin</td>\n",
       "      <td>3432</td>\n",
       "      <td>442</td>\n",
       "      <td></td>\n",
       "      <td>False</td>\n",
       "      <td>0</td>\n",
       "      <td>4</td>\n",
       "      <td>2020-10-29 05:52:57</td>\n",
       "    </tr>\n",
       "    <tr>\n",
       "      <th>1</th>\n",
       "      <td>India’s coronavirus case tally stands at 80,40...</td>\n",
       "      <td>The Statesman</td>\n",
       "      <td>95688</td>\n",
       "      <td>13185</td>\n",
       "      <td>New Delhi, Delhi</td>\n",
       "      <td>True</td>\n",
       "      <td>0</td>\n",
       "      <td>0</td>\n",
       "      <td>2020-10-29 05:52:17</td>\n",
       "    </tr>\n",
       "    <tr>\n",
       "      <th>2</th>\n",
       "      <td>RT @SputnikInt: COVID-19 LIVE UPDATES: Number ...</td>\n",
       "      <td>Saint Charbel Miracleworker</td>\n",
       "      <td>1404</td>\n",
       "      <td>113</td>\n",
       "      <td></td>\n",
       "      <td>False</td>\n",
       "      <td>0</td>\n",
       "      <td>5</td>\n",
       "      <td>2020-10-29 05:51:55</td>\n",
       "    </tr>\n",
       "    <tr>\n",
       "      <th>3</th>\n",
       "      <td>RT @COVIDNewsByMIB: #CoronaVirusUpdates: \\n\\n📍...</td>\n",
       "      <td>FOB, Kanker</td>\n",
       "      <td>24371</td>\n",
       "      <td>37</td>\n",
       "      <td></td>\n",
       "      <td>False</td>\n",
       "      <td>0</td>\n",
       "      <td>11</td>\n",
       "      <td>2020-10-29 05:51:31</td>\n",
       "    </tr>\n",
       "    <tr>\n",
       "      <th>4</th>\n",
       "      <td>RT @COVIDNewsByMIB: #CoronaVirusUpdates: \\n\\n📍...</td>\n",
       "      <td>ashok tripathi</td>\n",
       "      <td>2948</td>\n",
       "      <td>352</td>\n",
       "      <td>Lucknow</td>\n",
       "      <td>False</td>\n",
       "      <td>0</td>\n",
       "      <td>11</td>\n",
       "      <td>2020-10-29 05:50:04</td>\n",
       "    </tr>\n",
       "  </tbody>\n",
       "</table>\n",
       "</div>"
      ],
      "text/plain": [
       "                                              Tweets  \\\n",
       "0  RT @rdivia: India's daily cases might be comin...   \n",
       "1  India’s coronavirus case tally stands at 80,40...   \n",
       "2  RT @SputnikInt: COVID-19 LIVE UPDATES: Number ...   \n",
       "3  RT @COVIDNewsByMIB: #CoronaVirusUpdates: \\n\\n📍...   \n",
       "4  RT @COVIDNewsByMIB: #CoronaVirusUpdates: \\n\\n📍...   \n",
       "\n",
       "                          User User_statuses_count user_followers  \\\n",
       "0                       sachin                3432            442   \n",
       "1                The Statesman               95688          13185   \n",
       "2  Saint Charbel Miracleworker                1404            113   \n",
       "3                  FOB, Kanker               24371             37   \n",
       "4               ashok tripathi                2948            352   \n",
       "\n",
       "      User_location User_verified fav_count rt_count           tweet_date  \n",
       "0                           False         0        4  2020-10-29 05:52:57  \n",
       "1  New Delhi, Delhi          True         0        0  2020-10-29 05:52:17  \n",
       "2                           False         0        5  2020-10-29 05:51:55  \n",
       "3                           False         0       11  2020-10-29 05:51:31  \n",
       "4           Lucknow         False         0       11  2020-10-29 05:50:04  "
      ]
     },
     "execution_count": 22,
     "metadata": {},
     "output_type": "execute_result"
    }
   ],
   "source": [
    "df.head()"
   ]
  },
  {
   "cell_type": "code",
   "execution_count": 15,
   "metadata": {},
   "outputs": [
    {
     "name": "stdout",
     "output_type": "stream",
     "text": [
      "Collecting textblob\n",
      "  Downloading textblob-0.15.3-py2.py3-none-any.whl (636 kB)\n",
      "Requirement already satisfied: nltk>=3.1 in c:\\users\\shanmukeswar\\anaconda3\\lib\\site-packages (from textblob) (3.4.5)\n",
      "Requirement already satisfied: six in c:\\users\\shanmukeswar\\anaconda3\\lib\\site-packages (from nltk>=3.1->textblob) (1.14.0)\n",
      "Installing collected packages: textblob\n",
      "Successfully installed textblob-0.15.3\n"
     ]
    }
   ],
   "source": [
    "!pip install textblob"
   ]
  },
  {
   "cell_type": "code",
   "execution_count": 10,
   "metadata": {},
   "outputs": [],
   "source": [
    "#clean the tweet\n",
    "import re\n",
    "def clean_tweet(tweet):\n",
    "    return ' '.join(re.sub('(@[A-Za-z0-9]+)|([^0-9A-Za-z \\t])|(\\w+:\\/\\/\\S+)',' ', tweet).split())"
   ]
  },
  {
   "cell_type": "code",
   "execution_count": 11,
   "metadata": {},
   "outputs": [],
   "source": [
    "from textblob import TextBlob\n",
    "def analyze_tweet(tweet):\n",
    "    analysis = TextBlob(tweet)\n",
    "    if analysis.sentiment.polarity > 0:\n",
    "        return 'Positive'\n",
    "    elif analysis.sentiment.polarity == 0:\n",
    "        return 'Neutral'\n",
    "    else:\n",
    "        return 'Negative'"
   ]
  },
  {
   "cell_type": "code",
   "execution_count": 12,
   "metadata": {},
   "outputs": [],
   "source": [
    "df['clean_tweet'] = df['Tweets'].apply(lambda x: clean_tweet(x))"
   ]
  },
  {
   "cell_type": "code",
   "execution_count": 13,
   "metadata": {},
   "outputs": [
    {
     "data": {
      "text/html": [
       "<div>\n",
       "<style scoped>\n",
       "    .dataframe tbody tr th:only-of-type {\n",
       "        vertical-align: middle;\n",
       "    }\n",
       "\n",
       "    .dataframe tbody tr th {\n",
       "        vertical-align: top;\n",
       "    }\n",
       "\n",
       "    .dataframe thead th {\n",
       "        text-align: right;\n",
       "    }\n",
       "</style>\n",
       "<table border=\"1\" class=\"dataframe\">\n",
       "  <thead>\n",
       "    <tr style=\"text-align: right;\">\n",
       "      <th></th>\n",
       "      <th>Tweets</th>\n",
       "      <th>User</th>\n",
       "      <th>User_statuses_count</th>\n",
       "      <th>user_followers</th>\n",
       "      <th>User_location</th>\n",
       "      <th>User_verified</th>\n",
       "      <th>fav_count</th>\n",
       "      <th>rt_count</th>\n",
       "      <th>tweet_date</th>\n",
       "      <th>clean_tweet</th>\n",
       "    </tr>\n",
       "  </thead>\n",
       "  <tbody>\n",
       "    <tr>\n",
       "      <th>0</th>\n",
       "      <td>@vijayrupanibjp @GSNRGF @CMOGuj @narendramodi ...</td>\n",
       "      <td>Yakesh Patel</td>\n",
       "      <td>5662</td>\n",
       "      <td>50</td>\n",
       "      <td>New Jersey, USA</td>\n",
       "      <td>False</td>\n",
       "      <td>0</td>\n",
       "      <td>0</td>\n",
       "      <td>2020-10-30 01:04:05</td>\n",
       "      <td></td>\n",
       "    </tr>\n",
       "    <tr>\n",
       "      <th>1</th>\n",
       "      <td>India’s daily number of daily new cases has al...</td>\n",
       "      <td>MrOwl</td>\n",
       "      <td>13299</td>\n",
       "      <td>2755</td>\n",
       "      <td></td>\n",
       "      <td>False</td>\n",
       "      <td>0</td>\n",
       "      <td>0</td>\n",
       "      <td>2020-10-30 01:01:07</td>\n",
       "      <td>India s daily number of daily new cases has al...</td>\n",
       "    </tr>\n",
       "    <tr>\n",
       "      <th>2</th>\n",
       "      <td>RT @RavindraGautam_: The Maharashtra governmen...</td>\n",
       "      <td>Bluntly Speaking</td>\n",
       "      <td>514</td>\n",
       "      <td>30</td>\n",
       "      <td>New Delhi, India</td>\n",
       "      <td>False</td>\n",
       "      <td>0</td>\n",
       "      <td>4</td>\n",
       "      <td>2020-10-30 00:59:39</td>\n",
       "      <td>RT The Maharashtra government on Thursday exte...</td>\n",
       "    </tr>\n",
       "    <tr>\n",
       "      <th>3</th>\n",
       "      <td>RT @drshamamohd: India touched 8 million #COVI...</td>\n",
       "      <td>Sameer Bhaskar Jadhav</td>\n",
       "      <td>5370</td>\n",
       "      <td>76</td>\n",
       "      <td>Mumbai, India</td>\n",
       "      <td>False</td>\n",
       "      <td>0</td>\n",
       "      <td>153</td>\n",
       "      <td>2020-10-30 00:59:20</td>\n",
       "      <td>RT India touched 8 million COVID19 cases today...</td>\n",
       "    </tr>\n",
       "    <tr>\n",
       "      <th>4</th>\n",
       "      <td>RT @RavindraGautam_: The Maharashtra governmen...</td>\n",
       "      <td>Aquarius Mediaa</td>\n",
       "      <td>2478</td>\n",
       "      <td>429</td>\n",
       "      <td>Delhi, India</td>\n",
       "      <td>False</td>\n",
       "      <td>0</td>\n",
       "      <td>4</td>\n",
       "      <td>2020-10-30 00:58:23</td>\n",
       "      <td>RT The Maharashtra government on Thursday exte...</td>\n",
       "    </tr>\n",
       "  </tbody>\n",
       "</table>\n",
       "</div>"
      ],
      "text/plain": [
       "                                              Tweets                   User  \\\n",
       "0  @vijayrupanibjp @GSNRGF @CMOGuj @narendramodi ...           Yakesh Patel   \n",
       "1  India’s daily number of daily new cases has al...                  MrOwl   \n",
       "2  RT @RavindraGautam_: The Maharashtra governmen...       Bluntly Speaking   \n",
       "3  RT @drshamamohd: India touched 8 million #COVI...  Sameer Bhaskar Jadhav   \n",
       "4  RT @RavindraGautam_: The Maharashtra governmen...        Aquarius Mediaa   \n",
       "\n",
       "  User_statuses_count user_followers     User_location User_verified  \\\n",
       "0                5662             50   New Jersey, USA         False   \n",
       "1               13299           2755                           False   \n",
       "2                 514             30  New Delhi, India         False   \n",
       "3                5370             76     Mumbai, India         False   \n",
       "4                2478            429      Delhi, India         False   \n",
       "\n",
       "  fav_count rt_count           tweet_date  \\\n",
       "0         0        0  2020-10-30 01:04:05   \n",
       "1         0        0  2020-10-30 01:01:07   \n",
       "2         0        4  2020-10-30 00:59:39   \n",
       "3         0      153  2020-10-30 00:59:20   \n",
       "4         0        4  2020-10-30 00:58:23   \n",
       "\n",
       "                                         clean_tweet  \n",
       "0                                                     \n",
       "1  India s daily number of daily new cases has al...  \n",
       "2  RT The Maharashtra government on Thursday exte...  \n",
       "3  RT India touched 8 million COVID19 cases today...  \n",
       "4  RT The Maharashtra government on Thursday exte...  "
      ]
     },
     "execution_count": 13,
     "metadata": {},
     "output_type": "execute_result"
    }
   ],
   "source": [
    "df.head()"
   ]
  },
  {
   "cell_type": "code",
   "execution_count": 27,
   "metadata": {},
   "outputs": [
    {
     "data": {
      "text/html": [
       "<div>\n",
       "<style scoped>\n",
       "    .dataframe tbody tr th:only-of-type {\n",
       "        vertical-align: middle;\n",
       "    }\n",
       "\n",
       "    .dataframe tbody tr th {\n",
       "        vertical-align: top;\n",
       "    }\n",
       "\n",
       "    .dataframe thead th {\n",
       "        text-align: right;\n",
       "    }\n",
       "</style>\n",
       "<table border=\"1\" class=\"dataframe\">\n",
       "  <thead>\n",
       "    <tr style=\"text-align: right;\">\n",
       "      <th></th>\n",
       "      <th>Tweets</th>\n",
       "      <th>User</th>\n",
       "      <th>User_statuses_count</th>\n",
       "      <th>user_followers</th>\n",
       "      <th>User_location</th>\n",
       "      <th>User_verified</th>\n",
       "      <th>fav_count</th>\n",
       "      <th>rt_count</th>\n",
       "      <th>tweet_date</th>\n",
       "      <th>clean_tweet</th>\n",
       "      <th>tweet_type</th>\n",
       "      <th>Sentiment</th>\n",
       "    </tr>\n",
       "  </thead>\n",
       "  <tbody>\n",
       "    <tr>\n",
       "      <th>0</th>\n",
       "      <td>@vijayrupanibjp @GSNRGF @CMOGuj @narendramodi ...</td>\n",
       "      <td>Yakesh Patel</td>\n",
       "      <td>5662</td>\n",
       "      <td>50</td>\n",
       "      <td>New Jersey, USA</td>\n",
       "      <td>False</td>\n",
       "      <td>0</td>\n",
       "      <td>0</td>\n",
       "      <td>2020-10-30 01:04:05</td>\n",
       "      <td></td>\n",
       "      <td>Very Objective</td>\n",
       "      <td>Neutral</td>\n",
       "    </tr>\n",
       "    <tr>\n",
       "      <th>1</th>\n",
       "      <td>India’s daily number of daily new cases has al...</td>\n",
       "      <td>MrOwl</td>\n",
       "      <td>13299</td>\n",
       "      <td>2755</td>\n",
       "      <td></td>\n",
       "      <td>False</td>\n",
       "      <td>0</td>\n",
       "      <td>0</td>\n",
       "      <td>2020-10-30 01:01:07</td>\n",
       "      <td>India s daily number of daily new cases has al...</td>\n",
       "      <td>Fair</td>\n",
       "      <td>Positive</td>\n",
       "    </tr>\n",
       "    <tr>\n",
       "      <th>2</th>\n",
       "      <td>RT @RavindraGautam_: The Maharashtra governmen...</td>\n",
       "      <td>Bluntly Speaking</td>\n",
       "      <td>514</td>\n",
       "      <td>30</td>\n",
       "      <td>New Delhi, India</td>\n",
       "      <td>False</td>\n",
       "      <td>0</td>\n",
       "      <td>4</td>\n",
       "      <td>2020-10-30 00:59:39</td>\n",
       "      <td>RT The Maharashtra government on Thursday exte...</td>\n",
       "      <td>Very Objective</td>\n",
       "      <td>Neutral</td>\n",
       "    </tr>\n",
       "    <tr>\n",
       "      <th>3</th>\n",
       "      <td>RT @drshamamohd: India touched 8 million #COVI...</td>\n",
       "      <td>Sameer Bhaskar Jadhav</td>\n",
       "      <td>5370</td>\n",
       "      <td>76</td>\n",
       "      <td>Mumbai, India</td>\n",
       "      <td>False</td>\n",
       "      <td>0</td>\n",
       "      <td>153</td>\n",
       "      <td>2020-10-30 00:59:20</td>\n",
       "      <td>RT India touched 8 million COVID19 cases today...</td>\n",
       "      <td>Fair</td>\n",
       "      <td>Positive</td>\n",
       "    </tr>\n",
       "    <tr>\n",
       "      <th>4</th>\n",
       "      <td>RT @RavindraGautam_: The Maharashtra governmen...</td>\n",
       "      <td>Aquarius Mediaa</td>\n",
       "      <td>2478</td>\n",
       "      <td>429</td>\n",
       "      <td>Delhi, India</td>\n",
       "      <td>False</td>\n",
       "      <td>0</td>\n",
       "      <td>4</td>\n",
       "      <td>2020-10-30 00:58:23</td>\n",
       "      <td>RT The Maharashtra government on Thursday exte...</td>\n",
       "      <td>Very Objective</td>\n",
       "      <td>Neutral</td>\n",
       "    </tr>\n",
       "  </tbody>\n",
       "</table>\n",
       "</div>"
      ],
      "text/plain": [
       "                                              Tweets                   User  \\\n",
       "0  @vijayrupanibjp @GSNRGF @CMOGuj @narendramodi ...           Yakesh Patel   \n",
       "1  India’s daily number of daily new cases has al...                  MrOwl   \n",
       "2  RT @RavindraGautam_: The Maharashtra governmen...       Bluntly Speaking   \n",
       "3  RT @drshamamohd: India touched 8 million #COVI...  Sameer Bhaskar Jadhav   \n",
       "4  RT @RavindraGautam_: The Maharashtra governmen...        Aquarius Mediaa   \n",
       "\n",
       "  User_statuses_count user_followers     User_location User_verified  \\\n",
       "0                5662             50   New Jersey, USA         False   \n",
       "1               13299           2755                           False   \n",
       "2                 514             30  New Delhi, India         False   \n",
       "3                5370             76     Mumbai, India         False   \n",
       "4                2478            429      Delhi, India         False   \n",
       "\n",
       "  fav_count rt_count           tweet_date  \\\n",
       "0         0        0  2020-10-30 01:04:05   \n",
       "1         0        0  2020-10-30 01:01:07   \n",
       "2         0        4  2020-10-30 00:59:39   \n",
       "3         0      153  2020-10-30 00:59:20   \n",
       "4         0        4  2020-10-30 00:58:23   \n",
       "\n",
       "                                         clean_tweet      tweet_type Sentiment  \n",
       "0                                                     Very Objective   Neutral  \n",
       "1  India s daily number of daily new cases has al...            Fair  Positive  \n",
       "2  RT The Maharashtra government on Thursday exte...  Very Objective   Neutral  \n",
       "3  RT India touched 8 million COVID19 cases today...            Fair  Positive  \n",
       "4  RT The Maharashtra government on Thursday exte...  Very Objective   Neutral  "
      ]
     },
     "execution_count": 27,
     "metadata": {},
     "output_type": "execute_result"
    }
   ],
   "source": [
    "df['Sentiment'] = df['clean_tweet'].apply(lambda x: analyze_tweet(x))\n",
    "df.head()"
   ]
  },
  {
   "cell_type": "code",
   "execution_count": 24,
   "metadata": {},
   "outputs": [],
   "source": [
    "#create a function that shows original and cleaned tweets\n",
    "def generate_tweets(n):\n",
    "    print(\"===============Original Tweet=============\\n\")\n",
    "    print(df['Tweets'][n],\"\\n\")\n",
    "    print(\"===============Cleaned Tweet==============\\n\")\n",
    "    print(df['clean_tweet'][n],\"\\n\")"
   ]
  },
  {
   "cell_type": "code",
   "execution_count": 25,
   "metadata": {},
   "outputs": [
    {
     "name": "stdout",
     "output_type": "stream",
     "text": [
      "===============Original Tweet=============\n",
      "\n",
      "RT @TOIIndiaNews: Social gatherings in festivities, poor air quality among reasons for Covid cases rise in Delhi: Govt https://t.co/sAJB2Me… \n",
      "\n",
      "===============Cleaned Tweet==============\n",
      "\n",
      "RT Social gatherings in festivities poor air quality among reasons for Covid cases rise in Delhi Govt \n",
      "\n"
     ]
    }
   ],
   "source": [
    "generate_tweets(250)"
   ]
  },
  {
   "cell_type": "code",
   "execution_count": 26,
   "metadata": {},
   "outputs": [
    {
     "data": {
      "text/plain": [
       "Index(['Tweets', 'User', 'User_statuses_count', 'user_followers',\n",
       "       'User_location', 'User_verified', 'fav_count', 'rt_count', 'tweet_date',\n",
       "       'clean_tweet', 'tweet_type'],\n",
       "      dtype='object')"
      ]
     },
     "execution_count": 26,
     "metadata": {},
     "output_type": "execute_result"
    }
   ],
   "source": [
    "df.columns"
   ]
  },
  {
   "cell_type": "code",
   "execution_count": null,
   "metadata": {},
   "outputs": [],
   "source": []
  }
 ],
 "metadata": {
  "kernelspec": {
   "display_name": "Python 3",
   "language": "python",
   "name": "python3"
  },
  "language_info": {
   "codemirror_mode": {
    "name": "ipython",
    "version": 3
   },
   "file_extension": ".py",
   "mimetype": "text/x-python",
   "name": "python",
   "nbconvert_exporter": "python",
   "pygments_lexer": "ipython3",
   "version": "3.7.6"
  }
 },
 "nbformat": 4,
 "nbformat_minor": 4
}
